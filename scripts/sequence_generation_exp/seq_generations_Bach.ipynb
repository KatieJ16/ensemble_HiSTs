{
 "cells": [
  {
   "cell_type": "markdown",
   "metadata": {},
   "source": [
    "## Sequence generations"
   ]
  },
  {
   "cell_type": "markdown",
   "metadata": {},
   "source": [
    "### created by Yuying Liu, 06/10/2020"
   ]
  },
  {
   "cell_type": "markdown",
   "metadata": {},
   "source": [
    "This script is a template for sequence generation with different neural network architectures, including our multiscale HiTS, LSTM, ESN and CW-RNN. We carefully choose the number of hidden units for each so that the amount of trainable parameters are close. The {model}\\_pred.npy files are generated and will be further fed to other scripts for visualization."
   ]
  },
  {
   "cell_type": "code",
   "execution_count": 1,
   "metadata": {},
   "outputs": [],
   "source": [
    "# imports\n",
    "import os\n",
    "import sys\n",
    "import torch\n",
    "import numpy as np\n",
    "import scipy as sp\n",
    "from tqdm.notebook import tqdm\n",
    "import matplotlib.pyplot as plt\n",
    "import matplotlib.gridspec as gridspec\n",
    "\n",
    "module_path = os.path.abspath(os.path.join('../../src/'))\n",
    "if module_path not in sys.path:\n",
    "    sys.path.append(module_path)\n",
    "    \n",
    "import ResNet as resnet\n",
    "import rnn\n",
    "import esn\n",
    "import cwrnn"
   ]
  },
  {
   "cell_type": "code",
   "execution_count": 2,
   "metadata": {},
   "outputs": [],
   "source": [
    "path_to_fluid = '../../data/Fluid/'\n",
    "path_to_flower = '../../data/Flower/'\n",
    "path_to_Bach = '../../data/Bach/'\n",
    "path_to_KS = '../../data/KS/'\n",
    "\n",
    "path_to_model = '../../models/'\n",
    "path_to_result = '../../results/'"
   ]
  },
  {
   "cell_type": "code",
   "execution_count": 3,
   "metadata": {},
   "outputs": [
    {
     "name": "stdout",
     "output_type": "stream",
     "text": [
      "Bach data:  (128, 2076)\n"
     ]
    }
   ],
   "source": [
    "# fluid_data = np.load(os.path.join(path_to_fluid, 'data.npy'))\n",
    "# flower_data = np.load(os.path.join(path_to_flower, 'data.npy'))\n",
    "Bach_data = np.load(os.path.join(path_to_Bach, 'data.npy'))\n",
    "# ks_data = np.load(os.path.join(path_to_KS, 'data.npy'))\n",
    "\n",
    "# print('fluid data: ', fluid_data.shape)\n",
    "# print('flower data: ', flower_data.shape)\n",
    "print('Bach data: ', Bach_data.shape)\n",
    "# print('KS data: ', ks_data.shape)"
   ]
  },
  {
   "cell_type": "code",
   "execution_count": 25,
   "metadata": {},
   "outputs": [],
   "source": [
    "# adjustable parameters\n",
    "\n",
    "normalize = True                   # if to normalize the features \n",
    "data = Bach_data.T#fluid_data.T                # choose the sequence you want to generate\n",
    "model_prefix = 'Bach'#'Fluid'             # 'Fluid', 'Flower', 'KS' or 'Bach'\n",
    "n_forward = 3                      # number of training steps\n",
    "archs = [[128, 2048, 128], \n",
    "         [128, 1024, 128], \n",
    "         [128, 512, 128]]              # multscale HiTS architecture, details can be found in table 4\n",
    "step_sizes = [1, 5, 25]        # step sizes of HiTSs, details can be found in Appendix A.3\n",
    "lr = 1e-3                          # learning rate\n",
    "max_epoch = 10000                  # maximum number of epochs\n",
    "batch_size = 100                   # training batch size\n",
    "\n",
    "if normalize:\n",
    "    mean_values = data.mean(0)\n",
    "    ranges = data.ptp(0)\n",
    "    data = (data - mean_values)/ranges"
   ]
  },
  {
   "cell_type": "markdown",
   "metadata": {},
   "source": [
    "### coupled NNs"
   ]
  },
  {
   "cell_type": "code",
   "execution_count": 26,
   "metadata": {},
   "outputs": [
    {
     "name": "stdout",
     "output_type": "stream",
     "text": [
      "MODEL: Bach_D1\n",
      "time for first 10 =  0.41831350326538086\n",
      "epoch 1000, training loss 0.0006633928278461099, validation loss 0.0007759292493574321\n",
      "(--> new model saved @ epoch 1000)\n",
      "epoch 2000, training loss 0.0002873114717658609, validation loss 0.00030794250778853893\n",
      "(--> new model saved @ epoch 2000)\n",
      "epoch 3000, training loss 0.00028398455469869077, validation loss 0.000286188384052366\n",
      "(--> new model saved @ epoch 3000)\n",
      "epoch 4000, training loss 8.832703315420076e-05, validation loss 8.368999260710552e-05\n",
      "(--> new model saved @ epoch 4000)\n",
      "epoch 5000, training loss 0.06330782920122147, validation loss 0.07352190464735031\n",
      "epoch 6000, training loss 0.045440614223480225, validation loss 0.04332095384597778\n",
      "epoch 7000, training loss 0.03571144491434097, validation loss 0.03568744286894798\n",
      "epoch 8000, training loss 0.02694707177579403, validation loss 0.0267481729388237\n",
      "epoch 9000, training loss 0.016418831422924995, validation loss 0.0162658654153347\n",
      "epoch 10000, training loss 0.010418246500194073, validation loss 0.011282099410891533\n",
      "MODEL: Bach_D5\n",
      "time for first 10 =  0.13513588905334473\n",
      "epoch 1000, training loss 0.00047945897676981986, validation loss 0.00047945897676981986\n",
      "(--> new model saved @ epoch 1000)\n",
      "epoch 2000, training loss 0.00024078339629340917, validation loss 0.00024078339629340917\n",
      "(--> new model saved @ epoch 2000)\n",
      "epoch 3000, training loss 0.00010518833732930943, validation loss 0.00010518833732930943\n",
      "(--> new model saved @ epoch 3000)\n",
      "epoch 4000, training loss 8.837983477860689e-05, validation loss 8.837983477860689e-05\n",
      "(--> new model saved @ epoch 4000)\n",
      "epoch 5000, training loss 4.340070518082939e-05, validation loss 4.340070518082939e-05\n",
      "(--> new model saved @ epoch 5000)\n",
      "epoch 6000, training loss 3.767087036976591e-05, validation loss 3.767087036976591e-05\n",
      "(--> new model saved @ epoch 6000)\n",
      "epoch 7000, training loss 2.40101962845074e-05, validation loss 2.4010194465517998e-05\n",
      "(--> new model saved @ epoch 7000)\n",
      "epoch 8000, training loss 2.5083631044253707e-05, validation loss 2.5083631044253707e-05\n",
      "epoch 9000, training loss 7.941422154544853e-06, validation loss 7.941422154544853e-06\n",
      "(--> new model saved @ epoch 9000)\n",
      "epoch 10000, training loss 3.312148464829079e-06, validation loss 3.312148464829079e-06\n",
      "(--> new model saved @ epoch 10000)\n",
      "MODEL: Bach_D25\n",
      "time for first 10 =  0.056575775146484375\n",
      "epoch 1000, training loss 0.0002549703058321029, validation loss 0.0002549703058321029\n",
      "(--> new model saved @ epoch 1000)\n",
      "epoch 2000, training loss 6.825641321484e-05, validation loss 6.825641321484e-05\n",
      "(--> new model saved @ epoch 2000)\n",
      "epoch 3000, training loss 3.364023723406717e-05, validation loss 3.364024814800359e-05\n",
      "(--> new model saved @ epoch 3000)\n",
      "epoch 4000, training loss 3.2590964110568166e-05, validation loss 3.259097138652578e-05\n",
      "(--> new model saved @ epoch 4000)\n",
      "epoch 5000, training loss 9.13713938643923e-06, validation loss 9.137134838965721e-06\n",
      "(--> new model saved @ epoch 5000)\n",
      "epoch 6000, training loss 6.057893187971786e-06, validation loss 6.057894552213838e-06\n",
      "(--> new model saved @ epoch 6000)\n",
      "epoch 7000, training loss 2.1328320144675672e-05, validation loss 2.1328325601643883e-05\n",
      "epoch 8000, training loss 1.2380060070427135e-05, validation loss 1.2380058251437731e-05\n",
      "epoch 9000, training loss 5.499406597664347e-06, validation loss 5.499403869180242e-06\n",
      "(--> new model saved @ epoch 9000)\n",
      "epoch 10000, training loss 6.785909590689698e-06, validation loss 6.7859086811949965e-06\n",
      "MODEL: Bach_D125\n",
      "time for first 10 =  0.04020953178405762\n",
      "epoch 1000, training loss 8.836915185383987e-06, validation loss 8.836915185383987e-06\n",
      "(--> new model saved @ epoch 1000)\n",
      "epoch 2000, training loss 2.9645250378962373e-06, validation loss 2.9645250378962373e-06\n",
      "(--> new model saved @ epoch 2000)\n",
      "epoch 3000, training loss 7.421873760904418e-06, validation loss 7.421873760904418e-06\n",
      "epoch 4000, training loss 2.03107575202921e-07, validation loss 2.031075894137757e-07\n",
      "(--> new model saved @ epoch 4000)\n",
      "epoch 5000, training loss 1.7631950299801247e-07, validation loss 1.7631948878715775e-07\n",
      "(--> new model saved @ epoch 5000)\n",
      "epoch 6000, training loss 3.1145242473940016e-07, validation loss 3.1145242473940016e-07\n",
      "epoch 7000, training loss 3.848801455319517e-08, validation loss 3.848801455319517e-08\n",
      "(--> new model saved @ epoch 7000)\n",
      "epoch 8000, training loss 6.720949386362918e-06, validation loss 6.720949386362918e-06\n",
      "epoch 9000, training loss 6.625888318012585e-07, validation loss 6.625888318012585e-07\n",
      "epoch 10000, training loss 1.7405759535904508e-06, validation loss 1.7405759535904508e-06\n",
      "# of params:  987392\n"
     ]
    }
   ],
   "source": [
    "# dummy parameter\n",
    "dt = 1  \n",
    "\n",
    "# training\n",
    "models = []\n",
    "n_steps = data.shape[0] - 1  # number of forward steps\n",
    "for (arch, step_size) in zip(archs, step_sizes):\n",
    "    m = int(np.ceil(n_steps/(step_size*n_forward)))\n",
    "    pdata = np.zeros((m, step_size*n_forward+1, data.shape[1]))\n",
    "    for i in range(m):\n",
    "        start_idx = i*step_size*n_forward\n",
    "        end_idx = start_idx + step_size*n_forward + 1\n",
    "        tmp = data[start_idx:end_idx, :]\n",
    "        pdata[i, :tmp.shape[0], :] = tmp\n",
    "    dataset = resnet.DataSet(pdata, pdata, data[np.newaxis, :], dt, step_size, n_forward)\n",
    "    print('MODEL: '+model_prefix+'_D{}'.format(step_size))\n",
    "    model = resnet.ResNet(arch=arch, dt=dt, step_size=step_size)\n",
    "    model.train_net(dataset, max_epoch=max_epoch, batch_size=batch_size, lr=lr,\n",
    "                    model_path=os.path.join(path_to_model, model_prefix, model_prefix+'_D{}.pt'.format(step_size)))\n",
    "    models.append(model)\n",
    "\n",
    "print('# of params: ', sum([sum(p.numel() for p in model.parameters() if p.requires_grad) for model in models]))"
   ]
  },
  {
   "cell_type": "code",
   "execution_count": 46,
   "metadata": {},
   "outputs": [
    {
     "name": "stdout",
     "output_type": "stream",
     "text": [
      "(2076, 128)\n"
     ]
    }
   ],
   "source": [
    "models = []\n",
    "for step_size in step_sizes:\n",
    "    models.append(torch.load(os.path.join(path_to_model, model_prefix, model_prefix+'_D{}.pt'.format(step_size))))\n",
    "\n",
    "y_preds = resnet.vectorized_multi_scale_forecast(dataset.test_x, n_steps=n_steps, models=models)\n",
    "y_preds = torch.cat([dataset.test_x.unsqueeze(0), y_preds], dim=1).squeeze().detach().numpy()\n",
    "print(y_preds.shape)\n",
    "# if normalize:\n",
    "# y_preds = y_preds * ranges + mean_values\n",
    "# np.save(os.path.join(path_to_result, model_prefix, model_prefix + '_couple_pred.npy', y_preds))"
   ]
  },
  {
   "cell_type": "code",
   "execution_count": 48,
   "metadata": {},
   "outputs": [
    {
     "name": "stdout",
     "output_type": "stream",
     "text": [
      "(2076, 128)\n",
      "torch.Size([1, 2075, 128])\n"
     ]
    },
    {
     "data": {
      "text/plain": [
       "[<matplotlib.lines.Line2D at 0x7f90b0854c10>]"
      ]
     },
     "execution_count": 48,
     "metadata": {},
     "output_type": "execute_result"
    },
    {
     "data": {
      "image/png": "[encoded data removed]",
      "text/plain": [
       "<Figure size 432x288 with 1 Axes>"
      ]
     },
     "metadata": {
      "needs_background": "light"
     },
     "output_type": "display_data"
    }
   ],
   "source": [
    "print(y_preds.shape)\n",
    "print(dataset.test_ys.shape)\n",
    "\n",
    "idx = 100\n",
    "\n",
    "# test = dataset.test_ys[0] * ranges + mean_values\n",
    "plt.plot(data[:,idx])\n",
    "# plt.show()\n",
    "plt.plot(y_preds[:,idx])\n",
    "\n",
    "stop"
   ]
  },
  {
   "cell_type": "markdown",
   "metadata": {},
   "source": [
    "### lstm"
   ]
  },
  {
   "cell_type": "code",
   "execution_count": null,
   "metadata": {},
   "outputs": [],
   "source": [
    "# choose the hidden size so that # of parameters match \n",
    "model = rnn.LSTMWrapper(data.shape[-1], 740)\n",
    "print('# of params: ', sum(p.numel() for p in model.parameters() if p.requires_grad))\n",
    "\n",
    "# training\n",
    "criterion = torch.nn.MSELoss()\n",
    "optimizer = torch.optim.Adam(model.parameters(), lr=lr)\n",
    "epoch = 0\n",
    "best_loss = 1e+5\n",
    "while epoch < max_epoch:\n",
    "    epoch += 1\n",
    "    preds = model(torch.tensor(data[np.newaxis, :-1, :]).float())\n",
    "    loss = criterion(preds, torch.tensor(data[np.newaxis, 1:, :]).float())\n",
    "    if best_loss <= 1e-8:\n",
    "        print('--> model has reached an accuracy of 1e-8! Finished training!')\n",
    "        break\n",
    "    optimizer.zero_grad()\n",
    "    loss.backward()\n",
    "    optimizer.step()\n",
    "    if epoch % 1000 == 0:\n",
    "        print('epoch {}, training loss {}'.format(epoch, loss.item()))\n",
    "        if loss.item() < best_loss:\n",
    "            best_loss = loss.item()\n",
    "            print('(--> new model saved @ epoch {})'.format(epoch))\n",
    "            torch.save(model, os.path.join(path_to_model, model_predix, model_prefix+'_lstm.pt'))"
   ]
  },
  {
   "cell_type": "code",
   "execution_count": 29,
   "metadata": {},
   "outputs": [
    {
     "ename": "NameError",
     "evalue": "name 'model_predix' is not defined",
     "output_type": "error",
     "traceback": [
      "\u001b[0;31m---------------------------------------------------------------------------\u001b[0m",
      "\u001b[0;31mNameError\u001b[0m                                 Traceback (most recent call last)",
      "\u001b[0;32m/tmp/ipykernel_867/1123524383.py\u001b[0m in \u001b[0;36m<module>\u001b[0;34m\u001b[0m\n\u001b[0;32m----> 1\u001b[0;31m \u001b[0mmodel\u001b[0m \u001b[0;34m=\u001b[0m \u001b[0mtorch\u001b[0m\u001b[0;34m.\u001b[0m\u001b[0mload\u001b[0m\u001b[0;34m(\u001b[0m\u001b[0mos\u001b[0m\u001b[0;34m.\u001b[0m\u001b[0mpath\u001b[0m\u001b[0;34m.\u001b[0m\u001b[0mjoin\u001b[0m\u001b[0;34m(\u001b[0m\u001b[0mpath_to_model\u001b[0m\u001b[0;34m,\u001b[0m \u001b[0mmodel_predix\u001b[0m\u001b[0;34m,\u001b[0m \u001b[0mmodel_prefix\u001b[0m\u001b[0;34m+\u001b[0m\u001b[0;34m'_lstm.pt'\u001b[0m\u001b[0;34m)\u001b[0m\u001b[0;34m)\u001b[0m\u001b[0;34m\u001b[0m\u001b[0;34m\u001b[0m\u001b[0m\n\u001b[0m\u001b[1;32m      2\u001b[0m \u001b[0my_init\u001b[0m \u001b[0;34m=\u001b[0m \u001b[0mtorch\u001b[0m\u001b[0;34m.\u001b[0m\u001b[0mtensor\u001b[0m\u001b[0;34m(\u001b[0m\u001b[0mdata\u001b[0m\u001b[0;34m[\u001b[0m\u001b[0mnp\u001b[0m\u001b[0;34m.\u001b[0m\u001b[0mnewaxis\u001b[0m\u001b[0;34m,\u001b[0m \u001b[0;34m[\u001b[0m\u001b[0;36m0\u001b[0m\u001b[0;34m]\u001b[0m\u001b[0;34m,\u001b[0m \u001b[0;34m:\u001b[0m\u001b[0;34m]\u001b[0m\u001b[0;34m)\u001b[0m\u001b[0;34m.\u001b[0m\u001b[0mfloat\u001b[0m\u001b[0;34m(\u001b[0m\u001b[0;34m)\u001b[0m\u001b[0;34m\u001b[0m\u001b[0;34m\u001b[0m\u001b[0m\n\u001b[1;32m      3\u001b[0m \u001b[0my_preds\u001b[0m \u001b[0;34m=\u001b[0m \u001b[0mmodel\u001b[0m\u001b[0;34m(\u001b[0m\u001b[0my_init\u001b[0m\u001b[0;34m,\u001b[0m \u001b[0mt\u001b[0m\u001b[0;34m=\u001b[0m\u001b[0mdata\u001b[0m\u001b[0;34m.\u001b[0m\u001b[0mshape\u001b[0m\u001b[0;34m[\u001b[0m\u001b[0;36m0\u001b[0m\u001b[0;34m]\u001b[0m\u001b[0;34m-\u001b[0m\u001b[0;36m1\u001b[0m\u001b[0;34m)\u001b[0m\u001b[0;34m\u001b[0m\u001b[0;34m\u001b[0m\u001b[0m\n\u001b[1;32m      4\u001b[0m \u001b[0my_preds\u001b[0m \u001b[0;34m=\u001b[0m \u001b[0mtorch\u001b[0m\u001b[0;34m.\u001b[0m\u001b[0mcat\u001b[0m\u001b[0;34m(\u001b[0m\u001b[0;34m[\u001b[0m\u001b[0my_init\u001b[0m\u001b[0;34m,\u001b[0m \u001b[0my_preds\u001b[0m\u001b[0;34m]\u001b[0m\u001b[0;34m,\u001b[0m \u001b[0mdim\u001b[0m\u001b[0;34m=\u001b[0m\u001b[0;36m1\u001b[0m\u001b[0;34m)\u001b[0m\u001b[0;34m.\u001b[0m\u001b[0msqueeze\u001b[0m\u001b[0;34m(\u001b[0m\u001b[0;34m)\u001b[0m\u001b[0;34m.\u001b[0m\u001b[0mdetach\u001b[0m\u001b[0;34m(\u001b[0m\u001b[0;34m)\u001b[0m\u001b[0;34m.\u001b[0m\u001b[0mnumpy\u001b[0m\u001b[0;34m(\u001b[0m\u001b[0;34m)\u001b[0m\u001b[0;34m\u001b[0m\u001b[0;34m\u001b[0m\u001b[0m\n\u001b[1;32m      5\u001b[0m \u001b[0;32mif\u001b[0m \u001b[0mnormalize\u001b[0m\u001b[0;34m:\u001b[0m\u001b[0;34m\u001b[0m\u001b[0;34m\u001b[0m\u001b[0m\n",
      "\u001b[0;31mNameError\u001b[0m: name 'model_predix' is not defined"
     ]
    }
   ],
   "source": [
    "model = torch.load(os.path.join(path_to_model, model_preix, model_prefix+'_lstm.pt'))\n",
    "y_init = torch.tensor(data[np.newaxis, [0], :]).float()\n",
    "y_preds = model(y_init, t=data.shape[0]-1)\n",
    "y_preds = torch.cat([y_init, y_preds], dim=1).squeeze().detach().numpy()\n",
    "if normalize:\n",
    "    y_preds = y_preds * ranges + mean_values\n",
    "# np.save(os.path.join(path_to_result, model_prefix, model_prefix + '_lstm_pred.npy', y_preds))"
   ]
  },
  {
   "cell_type": "markdown",
   "metadata": {},
   "source": [
    "### reservoir computing"
   ]
  },
  {
   "cell_type": "code",
   "execution_count": null,
   "metadata": {},
   "outputs": [],
   "source": [
    "# choose the hidden size so that # of parameters match \n",
    "model = esn.ESN(data.shape[1], 1600)\n",
    "y_pred = model(torch.tensor(data[:-1, :]).float())\n",
    "truth = torch.tensor(data[1:, :]).float()\n",
    "W_out = y_pred.pinverse() @ truth\n",
    "print('# of params: ', W_out.shape[0]*W_out.shape[1])"
   ]
  },
  {
   "cell_type": "code",
   "execution_count": null,
   "metadata": {},
   "outputs": [],
   "source": [
    "y_preds = torch.zeros(data.shape)\n",
    "y_preds[0, :] = torch.tensor(data[0, :]).float()\n",
    "\n",
    "h_pred = model.f(model.W_in @torch.tensor(data[0, :]).float())\n",
    "y_pred = torch.matmul(h_pred, W_out)\n",
    "y_preds[1, :] = y_pred\n",
    "for t in range(2, data.shape[0]):\n",
    "    h_pred = model.f(model.W_in @ y_pred + model.W_hat @ h_pred)\n",
    "    y_pred = torch.matmul(h_pred, W_out)\n",
    "    y_preds[t, :] = y_pred\n",
    "    \n",
    "y_preds = y_preds.detach().numpy()\n",
    "if normalize:\n",
    "    y_preds = y_preds * ranges + mean_values\n",
    "np.save(os.path.join(path_to_result, model_prefix, model_prefix + '_reservoir_pred.npy', y_preds))"
   ]
  },
  {
   "cell_type": "markdown",
   "metadata": {},
   "source": [
    "### cw-rnn"
   ]
  },
  {
   "cell_type": "code",
   "execution_count": null,
   "metadata": {},
   "outputs": [],
   "source": [
    "# choose the hidden size so that # of parameters match \n",
    "model = cwrnn.CwRNN(data.shape[-1], 1570, 5)\n",
    "print('# of params: ', sum(p.numel() for p in model.parameters() if p.requires_grad))\n",
    "\n",
    "# training\n",
    "criterion = torch.nn.MSELoss()\n",
    "optimizer = torch.optim.Adam(model.parameters(), lr=lr)\n",
    "epoch = 0\n",
    "best_loss = 1e+5\n",
    "while epoch < max_epoch:\n",
    "    epoch += 1\n",
    "    preds = model(torch.tensor(data[np.newaxis, :-1, :]).float())\n",
    "    loss = criterion(preds, torch.tensor(data[np.newaxis, 1:, :]).float())\n",
    "    if best_loss <= 1e-8:\n",
    "        print('--> model has reached an accuracy of 1e-8! Finished training!')\n",
    "        break\n",
    "    optimizer.zero_grad()\n",
    "    loss.backward()\n",
    "    optimizer.step()\n",
    "    if epoch % 1000 == 0:\n",
    "        print('epoch {}, training loss {}'.format(epoch, loss.item()))\n",
    "        if loss.item() < best_loss:\n",
    "            best_loss = loss.item()\n",
    "            print('(--> new model saved @ epoch {})'.format(epoch))\n",
    "            torch.save(model, os.path.join(path_to_model, model_predix, model_prefix+'_cwrnn.pt'))"
   ]
  },
  {
   "cell_type": "code",
   "execution_count": null,
   "metadata": {},
   "outputs": [],
   "source": [
    "model = torch.load(os.path.join(path_to_model, model_predix, model_prefix+'_cwrnn.pt'))\n",
    "y_preds = model.forecast(torch.tensor(data[[0], :]).float(), data.shape[0]-1)\n",
    "y_preds = torch.cat([torch.tensor(data[[0], :]).float(), y_preds.squeeze()], dim=0).detach().numpy()\n",
    "if normalize:\n",
    "    y_preds = y_preds * ranges + mean_values\n",
    "np.save(os.path.join(path_to_result, model_prefix, model_prefix + '_cwrnn_pred.npy', y_preds))"
   ]
  },
  {
   "cell_type": "code",
   "execution_count": null,
   "metadata": {},
   "outputs": [],
   "source": []
  },
  {
   "cell_type": "code",
   "execution_count": null,
   "metadata": {},
   "outputs": [],
   "source": []
  },
  {
   "cell_type": "code",
   "execution_count": null,
   "metadata": {},
   "outputs": [],
   "source": []
  },
  {
   "cell_type": "code",
   "execution_count": null,
   "metadata": {},
   "outputs": [],
   "source": []
  },
  {
   "cell_type": "code",
   "execution_count": null,
   "metadata": {},
   "outputs": [],
   "source": []
  },
  {
   "cell_type": "code",
   "execution_count": null,
   "metadata": {},
   "outputs": [],
   "source": []
  },
  {
   "cell_type": "code",
   "execution_count": null,
   "metadata": {},
   "outputs": [],
   "source": []
  },
  {
   "cell_type": "code",
   "execution_count": null,
   "metadata": {},
   "outputs": [],
   "source": []
  }
 ],
 "metadata": {
  "kernelspec": {
   "display_name": "Python 3 (ipykernel)",
   "language": "python",
   "name": "python3"
  },
  "language_info": {
   "codemirror_mode": {
    "name": "ipython",
    "version": 3
   },
   "file_extension": ".py",
   "mimetype": "text/x-python",
   "name": "python",
   "nbconvert_exporter": "python",
   "pygments_lexer": "ipython3",
   "version": "3.9.5"
  }
 },
 "nbformat": 4,
 "nbformat_minor": 2
}
