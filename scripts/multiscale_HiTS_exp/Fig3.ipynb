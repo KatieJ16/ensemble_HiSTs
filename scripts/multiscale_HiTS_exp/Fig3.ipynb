{
 "cells": [
  {
   "cell_type": "code",
   "execution_count": 1,
   "id": "a5c4a637",
   "metadata": {},
   "outputs": [],
   "source": [
    "import os\n",
    "import sys\n",
    "import torch\n",
    "import numpy as np\n",
    "import matplotlib.pyplot as plt\n",
    "from scipy.interpolate import interp1d\n",
    "import time\n",
    "import scipy\n",
    "import random\n",
    "import argparse\n",
    "\n",
    "module_path = os.path.abspath(os.path.join('../../src/'))\n",
    "if module_path not in sys.path:\n",
    "    sys.path.append(module_path)\n",
    "\n",
    "import Resnet_multiscale_general as net"
   ]
  },
  {
   "cell_type": "code",
   "execution_count": 49,
   "id": "5d44eb87",
   "metadata": {},
   "outputs": [],
   "source": [
    "#===========================================================================================================\n",
    "def find_ave_random_paths(t_list_list, mse_list):\n",
    "    to_ave = np.zeros((num_lines, 10000, test_data.shape[-1]))\n",
    "    i = 0 \n",
    "    j = 4\n",
    "    print(t_list_list[i][j])\n",
    "    for i in range(len(t_list_list)):\n",
    "        for j in range(len(t_list_list[i])):\n",
    "            to_ave[i, int(t_list_list[i][j])] = mse_list[i][j]\n",
    "\n",
    "    averages = np.zeros(10000)\n",
    "    to_ave[to_ave == 0] = np.nan\n",
    "    means = np.nanmean(to_ave[:, 1:], axis=0)\n",
    "    stds = np.nanstd(to_ave[:, 1:], axis=0)\n",
    "    percent_95 = np.nanpercentile(to_ave[:, 1:], 99, axis = 0)\n",
    "    percent_5 = np.nanpercentile(to_ave[:, 1:], 1, axis = 0)\n",
    "\n",
    "    mask = np.isfinite(means[:,0])\n",
    "    ts = np.arange(1, 10000)\n",
    "\n",
    "    return ts[mask], means[mask], stds[mask], percent_95[mask], percent_5[mask]\n",
    "   \n",
    "#===========================================================================================================\n",
    "\n",
    "def predict_random_combo(model_depends, models_original, test_data, timesteps = 5000, to_plot=True):\n",
    "    t = 0\n",
    "    n_test_points, _, ndim = test_data.shape\n",
    "\n",
    "\n",
    "    t_list = list()\n",
    "    y_pred_list_depends = list()\n",
    "    y_pred_list_original = list()\n",
    "\n",
    "    indices = np.random.randint(0,len(step_sizes), int(timesteps/min(step_sizes)))\n",
    "    steps = list()\n",
    "    for i in range(len(indices)):\n",
    "        steps.append(step_sizes[indices[i]])\n",
    "        if sum(steps)>timesteps:\n",
    "            break\n",
    "    \n",
    "    y_pred_list_depends = np.zeros((n_test_points, len(steps)-1, ndim))\n",
    "    y_pred_list_original = np.zeros((n_test_points, len(steps)-1, ndim))\n",
    "    y_preds_depends = torch.tensor(test_data[:, 0]).float()\n",
    "    y_preds_original = torch.tensor(test_data[:, 0]).float()\n",
    "\n",
    "    for i in range(len(steps)-1):\n",
    "        this_pick = indices[i]\n",
    "        this_step_size = steps[i]\n",
    "        t+= this_step_size\n",
    "        y_preds_depends = model_depends.forward(y_preds_depends, str(this_step_size))\n",
    "        y_preds_original = models_original[this_pick].forward(y_preds_original)\n",
    "\n",
    "        y_pred_list_depends[:,i] = y_preds_depends.detach().numpy()\n",
    "        y_pred_list_original[:,i] = y_preds_original.detach().numpy()\n",
    "        t_list.append(t)\n",
    "        \n",
    "    t_list = np.array(t_list)\n",
    "    y_pred_list_depends = np.array(y_pred_list_depends)\n",
    "    y_pred_list_original = np.array(y_pred_list_original)\n",
    "    \n",
    "    \n",
    "    mse_depends = np.mean((y_pred_list_depends - test_data[:,t_list.astype(int)])**2, axis = (0,2))\n",
    "    mse_original = np.mean((y_pred_list_original - test_data[:,t_list.astype(int)])**2, axis = (0,2))\n",
    "    \n",
    "    return y_pred_list_depends, y_pred_list_original, mse_depends, mse_original, t_list\n",
    "#==========================================================================================================="
   ]
  },
  {
   "cell_type": "code",
   "execution_count": 29,
   "id": "df5e78ed",
   "metadata": {},
   "outputs": [],
   "source": [
    "data_system = 'hyperbolic'\n",
    "\n",
    "system = 'hyperbolic'#400'\n",
    "noise = 0.1\n",
    "smallest_step = 8\n",
    "step_sizes = [8, 16, 32]\n",
    "dt = 0.01\n",
    "\n",
    "num_lines = 500\n",
    "\n",
    "letter = 'b'\n",
    "# noise_list = [0.0, 0.05, 0.1,0.2,  0.4, 0.8]\n",
    "\n",
    "# paths\n",
    "data_dir = os.path.join('../../data/', data_system)\n",
    "model_dir = os.path.join('../../models/', system)\n",
    "    "
   ]
  },
  {
   "cell_type": "code",
   "execution_count": 28,
   "id": "a6f66cf8",
   "metadata": {},
   "outputs": [
    {
     "name": "stdout",
     "output_type": "stream",
     "text": [
      "test_data.shape =  (320, 5121, 2)\n"
     ]
    },
    {
     "ename": "FileNotFoundError",
     "evalue": "[Errno 2] No such file or directory: '../../models/hyperbolic/model_hyperbolic_depends_stepsize4_noise0.1_a.pt'",
     "output_type": "error",
     "traceback": [
      "\u001b[0;31m---------------------------------------------------------------------------\u001b[0m",
      "\u001b[0;31mFileNotFoundError\u001b[0m                         Traceback (most recent call last)",
      "\u001b[0;32m/tmp/ipykernel_859/238256625.py\u001b[0m in \u001b[0;36m<module>\u001b[0;34m\u001b[0m\n\u001b[1;32m     10\u001b[0m \u001b[0;34m\u001b[0m\u001b[0m\n\u001b[0;32m---> 11\u001b[0;31m     \u001b[0mt_list_list\u001b[0m \u001b[0;34m=\u001b[0m \u001b[0mnp\u001b[0m\u001b[0;34m.\u001b[0m\u001b[0mload\u001b[0m\u001b[0;34m(\u001b[0m\u001b[0mos\u001b[0m\u001b[0;34m.\u001b[0m\u001b[0mpath\u001b[0m\u001b[0;34m.\u001b[0m\u001b[0mjoin\u001b[0m\u001b[0;34m(\u001b[0m\u001b[0mmodel_dir\u001b[0m\u001b[0;34m,\u001b[0m \u001b[0mfile_base\u001b[0m \u001b[0;34m+\u001b[0m \u001b[0;34m\"_time.npy\"\u001b[0m\u001b[0;34m)\u001b[0m\u001b[0;34m,\u001b[0m \u001b[0mallow_pickle\u001b[0m\u001b[0;34m=\u001b[0m\u001b[0;32mTrue\u001b[0m\u001b[0;34m)\u001b[0m\u001b[0;34m\u001b[0m\u001b[0;34m\u001b[0m\u001b[0m\n\u001b[0m\u001b[1;32m     12\u001b[0m     \u001b[0mmse_list_depends\u001b[0m \u001b[0;34m=\u001b[0m \u001b[0mnp\u001b[0m\u001b[0;34m.\u001b[0m\u001b[0mload\u001b[0m\u001b[0;34m(\u001b[0m\u001b[0mos\u001b[0m\u001b[0;34m.\u001b[0m\u001b[0mpath\u001b[0m\u001b[0;34m.\u001b[0m\u001b[0mjoin\u001b[0m\u001b[0;34m(\u001b[0m\u001b[0mmodel_dir\u001b[0m\u001b[0;34m,\u001b[0m \u001b[0mfile_base\u001b[0m \u001b[0;34m+\u001b[0m \u001b[0;34m\"_depends.npy\"\u001b[0m\u001b[0;34m)\u001b[0m\u001b[0;34m,\u001b[0m \u001b[0mallow_pickle\u001b[0m\u001b[0;34m=\u001b[0m\u001b[0;32mTrue\u001b[0m\u001b[0;34m)\u001b[0m\u001b[0;34m\u001b[0m\u001b[0;34m\u001b[0m\u001b[0m\n",
      "\u001b[0;32m~/miniconda3/lib/python3.9/site-packages/numpy/lib/npyio.py\u001b[0m in \u001b[0;36mload\u001b[0;34m(file, mmap_mode, allow_pickle, fix_imports, encoding, max_header_size)\u001b[0m\n\u001b[1;32m    404\u001b[0m         \u001b[0;32melse\u001b[0m\u001b[0;34m:\u001b[0m\u001b[0;34m\u001b[0m\u001b[0;34m\u001b[0m\u001b[0m\n\u001b[0;32m--> 405\u001b[0;31m             \u001b[0mfid\u001b[0m \u001b[0;34m=\u001b[0m \u001b[0mstack\u001b[0m\u001b[0;34m.\u001b[0m\u001b[0menter_context\u001b[0m\u001b[0;34m(\u001b[0m\u001b[0mopen\u001b[0m\u001b[0;34m(\u001b[0m\u001b[0mos_fspath\u001b[0m\u001b[0;34m(\u001b[0m\u001b[0mfile\u001b[0m\u001b[0;34m)\u001b[0m\u001b[0;34m,\u001b[0m \u001b[0;34m\"rb\"\u001b[0m\u001b[0;34m)\u001b[0m\u001b[0;34m)\u001b[0m\u001b[0;34m\u001b[0m\u001b[0;34m\u001b[0m\u001b[0m\n\u001b[0m\u001b[1;32m    406\u001b[0m             \u001b[0mown_fid\u001b[0m \u001b[0;34m=\u001b[0m \u001b[0;32mTrue\u001b[0m\u001b[0;34m\u001b[0m\u001b[0;34m\u001b[0m\u001b[0m\n",
      "\u001b[0;31mFileNotFoundError\u001b[0m: [Errno 2] No such file or directory: '../../models/hyperbolic/model_hyperbolic_depends_stepsize4_noise0.1_a_time.npy'",
      "\nDuring handling of the above exception, another exception occurred:\n",
      "\u001b[0;31mFileNotFoundError\u001b[0m                         Traceback (most recent call last)",
      "\u001b[0;32m/tmp/ipykernel_859/238256625.py\u001b[0m in \u001b[0;36m<module>\u001b[0;34m\u001b[0m\n\u001b[1;32m     26\u001b[0m     \u001b[0;31m#load depend model\u001b[0m\u001b[0;34m\u001b[0m\u001b[0;34m\u001b[0m\u001b[0;34m\u001b[0m\u001b[0m\n\u001b[1;32m     27\u001b[0m     \u001b[0mmodel_name\u001b[0m \u001b[0;34m=\u001b[0m \u001b[0;34m'model_{}_depends_stepsize{}_noise{}_{}.pt'\u001b[0m\u001b[0;34m.\u001b[0m\u001b[0mformat\u001b[0m\u001b[0;34m(\u001b[0m\u001b[0msystem\u001b[0m\u001b[0;34m,\u001b[0m \u001b[0msmallest_step\u001b[0m\u001b[0;34m,\u001b[0m \u001b[0mnoise\u001b[0m\u001b[0;34m,\u001b[0m \u001b[0mletter\u001b[0m\u001b[0;34m)\u001b[0m\u001b[0;34m\u001b[0m\u001b[0;34m\u001b[0m\u001b[0m\n\u001b[0;32m---> 28\u001b[0;31m     \u001b[0mmodel_depends\u001b[0m \u001b[0;34m=\u001b[0m \u001b[0mtorch\u001b[0m\u001b[0;34m.\u001b[0m\u001b[0mload\u001b[0m\u001b[0;34m(\u001b[0m\u001b[0mos\u001b[0m\u001b[0;34m.\u001b[0m\u001b[0mpath\u001b[0m\u001b[0;34m.\u001b[0m\u001b[0mjoin\u001b[0m\u001b[0;34m(\u001b[0m\u001b[0mmodel_dir\u001b[0m\u001b[0;34m,\u001b[0m \u001b[0mmodel_name\u001b[0m\u001b[0;34m)\u001b[0m\u001b[0;34m,\u001b[0m \u001b[0mmap_location\u001b[0m\u001b[0;34m=\u001b[0m\u001b[0;34m'cpu'\u001b[0m\u001b[0;34m)\u001b[0m\u001b[0;34m\u001b[0m\u001b[0;34m\u001b[0m\u001b[0m\n\u001b[0m\u001b[1;32m     29\u001b[0m     \u001b[0mmodel_depends\u001b[0m\u001b[0;34m.\u001b[0m\u001b[0mdevice\u001b[0m \u001b[0;34m=\u001b[0m \u001b[0;34m'cpu'\u001b[0m\u001b[0;34m\u001b[0m\u001b[0;34m\u001b[0m\u001b[0m\n\u001b[1;32m     30\u001b[0m \u001b[0;34m\u001b[0m\u001b[0m\n",
      "\u001b[0;32m~/miniconda3/lib/python3.9/site-packages/torch/serialization.py\u001b[0m in \u001b[0;36mload\u001b[0;34m(f, map_location, pickle_module, **pickle_load_args)\u001b[0m\n\u001b[1;32m    697\u001b[0m         \u001b[0mpickle_load_args\u001b[0m\u001b[0;34m[\u001b[0m\u001b[0;34m'encoding'\u001b[0m\u001b[0;34m]\u001b[0m \u001b[0;34m=\u001b[0m \u001b[0;34m'utf-8'\u001b[0m\u001b[0;34m\u001b[0m\u001b[0;34m\u001b[0m\u001b[0m\n\u001b[1;32m    698\u001b[0m \u001b[0;34m\u001b[0m\u001b[0m\n\u001b[0;32m--> 699\u001b[0;31m     \u001b[0;32mwith\u001b[0m \u001b[0m_open_file_like\u001b[0m\u001b[0;34m(\u001b[0m\u001b[0mf\u001b[0m\u001b[0;34m,\u001b[0m \u001b[0;34m'rb'\u001b[0m\u001b[0;34m)\u001b[0m \u001b[0;32mas\u001b[0m \u001b[0mopened_file\u001b[0m\u001b[0;34m:\u001b[0m\u001b[0;34m\u001b[0m\u001b[0;34m\u001b[0m\u001b[0m\n\u001b[0m\u001b[1;32m    700\u001b[0m         \u001b[0;32mif\u001b[0m \u001b[0m_is_zipfile\u001b[0m\u001b[0;34m(\u001b[0m\u001b[0mopened_file\u001b[0m\u001b[0;34m)\u001b[0m\u001b[0;34m:\u001b[0m\u001b[0;34m\u001b[0m\u001b[0;34m\u001b[0m\u001b[0m\n\u001b[1;32m    701\u001b[0m             \u001b[0;31m# The zipfile reader is going to advance the current file position.\u001b[0m\u001b[0;34m\u001b[0m\u001b[0;34m\u001b[0m\u001b[0;34m\u001b[0m\u001b[0m\n",
      "\u001b[0;32m~/miniconda3/lib/python3.9/site-packages/torch/serialization.py\u001b[0m in \u001b[0;36m_open_file_like\u001b[0;34m(name_or_buffer, mode)\u001b[0m\n\u001b[1;32m    228\u001b[0m \u001b[0;32mdef\u001b[0m \u001b[0m_open_file_like\u001b[0m\u001b[0;34m(\u001b[0m\u001b[0mname_or_buffer\u001b[0m\u001b[0;34m,\u001b[0m \u001b[0mmode\u001b[0m\u001b[0;34m)\u001b[0m\u001b[0;34m:\u001b[0m\u001b[0;34m\u001b[0m\u001b[0;34m\u001b[0m\u001b[0m\n\u001b[1;32m    229\u001b[0m     \u001b[0;32mif\u001b[0m \u001b[0m_is_path\u001b[0m\u001b[0;34m(\u001b[0m\u001b[0mname_or_buffer\u001b[0m\u001b[0;34m)\u001b[0m\u001b[0;34m:\u001b[0m\u001b[0;34m\u001b[0m\u001b[0;34m\u001b[0m\u001b[0m\n\u001b[0;32m--> 230\u001b[0;31m         \u001b[0;32mreturn\u001b[0m \u001b[0m_open_file\u001b[0m\u001b[0;34m(\u001b[0m\u001b[0mname_or_buffer\u001b[0m\u001b[0;34m,\u001b[0m \u001b[0mmode\u001b[0m\u001b[0;34m)\u001b[0m\u001b[0;34m\u001b[0m\u001b[0;34m\u001b[0m\u001b[0m\n\u001b[0m\u001b[1;32m    231\u001b[0m     \u001b[0;32melse\u001b[0m\u001b[0;34m:\u001b[0m\u001b[0;34m\u001b[0m\u001b[0;34m\u001b[0m\u001b[0m\n\u001b[1;32m    232\u001b[0m         \u001b[0;32mif\u001b[0m \u001b[0;34m'w'\u001b[0m \u001b[0;32min\u001b[0m \u001b[0mmode\u001b[0m\u001b[0;34m:\u001b[0m\u001b[0;34m\u001b[0m\u001b[0;34m\u001b[0m\u001b[0m\n",
      "\u001b[0;32m~/miniconda3/lib/python3.9/site-packages/torch/serialization.py\u001b[0m in \u001b[0;36m__init__\u001b[0;34m(self, name, mode)\u001b[0m\n\u001b[1;32m    209\u001b[0m \u001b[0;32mclass\u001b[0m \u001b[0m_open_file\u001b[0m\u001b[0;34m(\u001b[0m\u001b[0m_opener\u001b[0m\u001b[0;34m)\u001b[0m\u001b[0;34m:\u001b[0m\u001b[0;34m\u001b[0m\u001b[0;34m\u001b[0m\u001b[0m\n\u001b[1;32m    210\u001b[0m     \u001b[0;32mdef\u001b[0m \u001b[0m__init__\u001b[0m\u001b[0;34m(\u001b[0m\u001b[0mself\u001b[0m\u001b[0;34m,\u001b[0m \u001b[0mname\u001b[0m\u001b[0;34m,\u001b[0m \u001b[0mmode\u001b[0m\u001b[0;34m)\u001b[0m\u001b[0;34m:\u001b[0m\u001b[0;34m\u001b[0m\u001b[0;34m\u001b[0m\u001b[0m\n\u001b[0;32m--> 211\u001b[0;31m         \u001b[0msuper\u001b[0m\u001b[0;34m(\u001b[0m\u001b[0m_open_file\u001b[0m\u001b[0;34m,\u001b[0m \u001b[0mself\u001b[0m\u001b[0;34m)\u001b[0m\u001b[0;34m.\u001b[0m\u001b[0m__init__\u001b[0m\u001b[0;34m(\u001b[0m\u001b[0mopen\u001b[0m\u001b[0;34m(\u001b[0m\u001b[0mname\u001b[0m\u001b[0;34m,\u001b[0m \u001b[0mmode\u001b[0m\u001b[0;34m)\u001b[0m\u001b[0;34m)\u001b[0m\u001b[0;34m\u001b[0m\u001b[0;34m\u001b[0m\u001b[0m\n\u001b[0m\u001b[1;32m    212\u001b[0m \u001b[0;34m\u001b[0m\u001b[0m\n\u001b[1;32m    213\u001b[0m     \u001b[0;32mdef\u001b[0m \u001b[0m__exit__\u001b[0m\u001b[0;34m(\u001b[0m\u001b[0mself\u001b[0m\u001b[0;34m,\u001b[0m \u001b[0;34m*\u001b[0m\u001b[0margs\u001b[0m\u001b[0;34m)\u001b[0m\u001b[0;34m:\u001b[0m\u001b[0;34m\u001b[0m\u001b[0;34m\u001b[0m\u001b[0m\n",
      "\u001b[0;31mFileNotFoundError\u001b[0m: [Errno 2] No such file or directory: '../../models/hyperbolic/model_hyperbolic_depends_stepsize4_noise0.1_a.pt'"
     ]
    }
   ],
   "source": [
    "# t_list_list_all = list()\n",
    "# mse_list_depends_all = list()\n",
    "# mse_list_original_all = list()\n",
    "\n",
    "# for noise in noise_list:\n",
    "    \n",
    "test_data = np.load(os.path.join(data_dir, 'test_noise{}.npy'.format(noise)))\n",
    "try:\n",
    "    file_base = 'model_{}_depends_stepsize{}_noise{}_{}'.format(system, smallest_step, noise, letter)\n",
    "\n",
    "    t_list_list = np.load(os.path.join(model_dir, file_base + \"_time.npy\"), allow_pickle=True)\n",
    "    mse_list_depends = np.load(os.path.join(model_dir, file_base + \"_depends.npy\"), allow_pickle=True)\n",
    "    mse_list_original = np.load(os.path.join(model_dir, file_base + \"_original.npy\"), allow_pickle=True)\n",
    "\n",
    "except:\n",
    "    test_data = np.load(os.path.join(data_dir, 'test_noise{}.npy'.format(noise)))\n",
    "\n",
    "\n",
    "    n_test_points, _, ndim = test_data.shape\n",
    "\n",
    "    n_test = test_data.shape[0]\n",
    "\n",
    "    print(\"test_data.shape = \", test_data.shape)\n",
    "\n",
    "\n",
    "    #load depend model\n",
    "    model_name = 'model_{}_depends_stepsize{}_noise{}_{}.pt'.format(system, smallest_step, noise, letter)\n",
    "    model_depends = torch.load(os.path.join(model_dir, model_name), map_location='cpu')\n",
    "    model_depends.device = 'cpu'\n",
    "\n",
    "    print(\"model_depends.step_sizes= \", model_depends.step_sizes)\n",
    "    for step_size in model_depends.step_sizes:\n",
    "        model_depends._modules[str(step_size)]._modules['activation'] = torch.nn.ReLU()\n",
    "\n",
    "\n",
    "    #load original models\n",
    "    # load models\n",
    "    models_original = list()\n",
    "    for step_size in model_depends.step_sizes:\n",
    "        model_name = 'original_model_D{}_noise{}.pt'.format(step_size, noise, letter)\n",
    "        print(\"load \", model_name)\n",
    "        try:\n",
    "            try:\n",
    "                models_original.append(torch.load(os.path.join(model_dir, model_name), map_location='cpu'))\n",
    "            except:\n",
    "                try:\n",
    "                    model_name = 'original_model_D{}_noise{}_{}.pt'.format(step_size, noise, letter)\n",
    "                    models_original.append(torch.load(os.path.join(model_dir, model_name), map_location='cpu'))\n",
    "                except:\n",
    "                    model_name = 'original_model_D{}_noise{}_{}.pt'.format(step_size, noise, 'b')\n",
    "                    models_original.append(torch.load(os.path.join(model_dir, model_name), map_location='cpu'))\n",
    "        except:\n",
    "            print(\"done loading at {}\".format(step_size))\n",
    "            break\n",
    "\n",
    "\n",
    "    to_plot = False\n",
    "    timesteps = test_data.shape[1] - 1\n",
    "    #less for Lorenz\n",
    "    if \"Lorenz\" in system:\n",
    "        timesteps = 1000\n",
    "\n",
    "    elif \"KS\" in system:\n",
    "        timesteps = 1000\n",
    "\n",
    "    print(\"timesteps = \", timesteps)\n",
    "\n",
    "\n",
    "#     num_lines = 500\n",
    "    mse_list_depends = list()\n",
    "    mse_list_original = list()\n",
    "    t_list_list = list()\n",
    "    path_list = list()\n",
    "    y_pred_list_depends = list()\n",
    "    y_pred_list_original = list()\n",
    "\n",
    "\n",
    "    #train all the random lines of both models\n",
    "    for i in range(num_lines):\n",
    "        print(\"i = \", i)\n",
    "\n",
    "        y_preds_random_depends, y_preds_random_original, mse_random_depends, mse_random_original, t_list_random = predict_random_combo(model_depends, models_original, test_data, timesteps = timesteps, to_plot=False)\n",
    "        y_pred_list_depends.append(y_preds_random_depends[0,:])\n",
    "        y_pred_list_original.append(y_preds_random_original[0,:])\n",
    "        mse_list_depends.append(mse_random_depends)\n",
    "        mse_list_original.append(mse_random_original)\n",
    "        t_list_list.append(t_list_random)\n",
    "\n",
    "\n",
    "\n",
    "    file_base = 'model_{}_depends_stepsize{}_noise{}_{}'.format(system, smallest_step, noise, letter)\n",
    "\n",
    "    np.save(os.path.join(model_dir, file_base + \"_time.npy\"), np.array(t_list_list, dtype=object))\n",
    "    np.save(os.path.join(model_dir, file_base + \"_depends.npy\"), np.array(mse_list_depends, dtype=object))\n",
    "    np.save(os.path.join(model_dir, file_base + \"_original.npy\"), np.array(mse_list_original, dtype=object))\n",
    "\n",
    "#     t_list_list_all.append(t_list_list)\n",
    "#     mse_list_depends_all.append(mse_list_depends)\n",
    "#     mse_list_original_all.append(mse_list_original)\n",
    "    "
   ]
  },
  {
   "cell_type": "code",
   "execution_count": 35,
   "id": "fec33cdb",
   "metadata": {},
   "outputs": [
    {
     "name": "stdout",
     "output_type": "stream",
     "text": [
      "test_data.shape =  (320, 5121, 2)\n",
      "model_depends.step_sizes=  [8, 16, 32]\n",
      "load  original_model_D8_noise0.1.pt\n",
      "load  original_model_D16_noise0.1.pt\n",
      "load  original_model_D32_noise0.1.pt\n"
     ]
    }
   ],
   "source": [
    "test_data = np.load(os.path.join(data_dir, 'test_noise{}.npy'.format(noise)))\n",
    "\n",
    "\n",
    "n_test_points, _, ndim = test_data.shape\n",
    "\n",
    "n_test = test_data.shape[0]\n",
    "\n",
    "print(\"test_data.shape = \", test_data.shape)\n",
    "\n",
    "\n",
    "#load depend model\n",
    "model_name = 'model_{}_depends_stepsize{}_noise{}_{}.pt'.format(system, smallest_step, noise, letter)\n",
    "model_depends = torch.load(os.path.join(model_dir, model_name), map_location='cpu')\n",
    "model_depends.device = 'cpu'\n",
    "\n",
    "print(\"model_depends.step_sizes= \", model_depends.step_sizes)\n",
    "for step_size in model_depends.step_sizes:\n",
    "    model_depends._modules[str(step_size)]._modules['activation'] = torch.nn.ReLU()\n",
    "\n",
    "\n",
    "#load original models\n",
    "# load models\n",
    "models_original = list()\n",
    "for step_size in model_depends.step_sizes:\n",
    "    model_name = 'original_model_D{}_noise{}.pt'.format(step_size, noise, letter)\n",
    "    print(\"load \", model_name)\n",
    "    try:\n",
    "        try:\n",
    "            models_original.append(torch.load(os.path.join(model_dir, model_name), map_location='cpu'))\n",
    "        except:\n",
    "            try:\n",
    "                model_name = 'original_model_D{}_noise{}_{}.pt'.format(step_size, noise, letter)\n",
    "                models_original.append(torch.load(os.path.join(model_dir, model_name), map_location='cpu'))\n",
    "            except:\n",
    "                model_name = 'original_model_D{}_noise{}_{}.pt'.format(step_size, noise, 'b')\n",
    "                models_original.append(torch.load(os.path.join(model_dir, model_name), map_location='cpu'))\n",
    "    except:\n",
    "        print(\"done loading at {}\".format(step_size))\n",
    "        break\n",
    "            \n",
    "to_plot = False\n",
    "timesteps = test_data.shape[1] - 1\n",
    "    \n",
    "y_pred_list_depends = []\n",
    "y_pred_list_original= []\n",
    "t_list_list = []\n",
    "#train all the random lines of both models\n",
    "for i in range(100):\n",
    "    \n",
    "    y_preds_random_depends, y_preds_random_original, mse_random_depends, mse_random_original, t_list_random = predict_random_combo(model_depends, models_original, test_data[0:1], timesteps = timesteps, to_plot=False)\n",
    "    y_pred_list_depends.append(y_preds_random_depends[0,:])\n",
    "    y_pred_list_original.append(y_preds_random_original[0,:])\n",
    "    t_list_list.append(t_list_random)"
   ]
  },
  {
   "cell_type": "code",
   "execution_count": 50,
   "id": "b0b2269d",
   "metadata": {},
   "outputs": [
    {
     "name": "stdout",
     "output_type": "stream",
     "text": [
      "104\n"
     ]
    },
    {
     "name": "stderr",
     "output_type": "stream",
     "text": [
      "/tmp/ipykernel_859/2340008674.py:13: RuntimeWarning: Mean of empty slice\n",
      "  means = np.nanmean(to_ave[:, 1:], axis=0)\n"
     ]
    },
    {
     "name": "stdout",
     "output_type": "stream",
     "text": [
      "104\n"
     ]
    },
    {
     "data": {
      "text/plain": [
       "<matplotlib.collections.PolyCollection at 0x7f8292a85460>"
      ]
     },
     "execution_count": 50,
     "metadata": {},
     "output_type": "execute_result"
    },
    {
     "data": {
      "image/png": "[encoded data removed]",
      "text/plain": [
       "<Figure size 432x288 with 1 Axes>"
      ]
     },
     "metadata": {
      "needs_background": "light"
     },
     "output_type": "display_data"
    }
   ],
   "source": [
    "plt.plot(test_data[0], 'g')\n",
    "\n",
    "ts_depends, means_depends, stds_depends, percent_95_depends, percent_5_depends = find_ave_random_paths(t_list_list, y_pred_list_depends)\n",
    "ts_original, means_original, stds_original, percent_95_original, percent_5_original = find_ave_random_paths(t_list_list, y_pred_list_original)\n",
    "\n",
    "plt.plot(ts_depends, means_depends, 'r')\n",
    "plt.plot(ts_original, means_original, 'b')\n",
    "\n",
    "plt.fill_between(ts_depends, percent_5_depends[:,0], percent_95_depends[:,0], facecolor='red', alpha=0.5)\n",
    "plt.fill_between(ts_original, percent_5_original[:,0], percent_95_original[:,0], facecolor='blue', alpha=0.5)\n",
    "\n",
    "\n",
    "# for i in range(len(y_pred_list_depends)):\n",
    "#     plt.plot(t_list_list[i], y_pred_list_depends[i], 'r')\n",
    "#     plt.plot(t_list_list[i], y_pred_list_original[i], 'b')\n",
    "    \n"
   ]
  },
  {
   "cell_type": "code",
   "execution_count": 18,
   "id": "41602356",
   "metadata": {},
   "outputs": [
    {
     "data": {
      "text/plain": [
       "(320, 5121, 2)"
      ]
     },
     "execution_count": 18,
     "metadata": {},
     "output_type": "execute_result"
    }
   ],
   "source": [
    "test_data.shape"
   ]
  },
  {
   "cell_type": "code",
   "execution_count": 15,
   "id": "6e14d76f",
   "metadata": {},
   "outputs": [
    {
     "name": "stdout",
     "output_type": "stream",
     "text": [
      "104\n"
     ]
    },
    {
     "name": "stderr",
     "output_type": "stream",
     "text": [
      "/tmp/ipykernel_859/4023873419.py:13: RuntimeWarning: Mean of empty slice\n",
      "  means = np.nanmean(to_ave[:, 1:], axis=0)\n"
     ]
    },
    {
     "name": "stdout",
     "output_type": "stream",
     "text": [
      "104\n"
     ]
    },
    {
     "data": {
      "text/plain": [
       "<matplotlib.legend.Legend at 0x7f8299e65ac0>"
      ]
     },
     "execution_count": 15,
     "metadata": {},
     "output_type": "execute_result"
    },
    {
     "data": {
      "image/png": "[encoded data removed]",
      "text/plain": [
       "<Figure size 432x288 with 1 Axes>"
      ]
     },
     "metadata": {
      "needs_background": "light"
     },
     "output_type": "display_data"
    }
   ],
   "source": [
    "\n",
    "\n",
    "#start of the plotting code\n",
    "\n",
    "# fig, axs  = plt.subplots(1, len(noise_list), sharey='row', figsize=(10, 4))\n",
    "\n",
    "plt.figure()\n",
    "    \n",
    "    #find the average paths for both methods\n",
    "ts_depends, means_depends, stds_depends, percent_95_depends, percent_5_depends = find_ave_random_paths(t_list_list, mse_list_depends)\n",
    "ts_original, means_original, stds_original, percent_95_original, percent_5_original = find_ave_random_paths(t_list_list, mse_list_original)\n",
    "\n",
    "\n",
    "\n",
    "plt.semilogy(ts_depends, means_depends[:,0], color='darkred', label=\"depends\")\n",
    "plt.semilogy(ts_original, means_original[:,0], color='navy', label=\"original\")\n",
    "\n",
    "plt.fill_between(ts_depends, percent_5_depends[:,0], percent_95_depends[:,0], facecolor='red', alpha=0.25)\n",
    "plt.fill_between(ts_original, percent_5_original[:,0], percent_95_original[:,0], facecolor='blue', alpha=0.25)\n",
    "\n",
    "plt.title(system + \" MSE : noise = \" + str(noise))\n",
    "plt.xlabel(\"timesteps\")\n",
    "plt.ylabel(\"MSE\")\n",
    "\n",
    "plt.legend()\n",
    "\n",
    "# axs[idx_noise].set_title(\"Noise = \" + str(noise))\n",
    "\n",
    "\n",
    "\n",
    "# axs[0].set(xlabel='Timesteps', ylabel='Error')\n",
    "# fig.suptitle(system + ' MSE with increasing noise')#system + \": MSE : noise = \" + str(noise) + \": \" + str(num_lines) + \" random paths :step_sizes = \"+str(step_sizes))\n",
    "\n",
    "# plt.ylim([1e-8, 1])\n",
    "# plt.show()\n"
   ]
  },
  {
   "cell_type": "code",
   "execution_count": null,
   "id": "4a8b2612",
   "metadata": {},
   "outputs": [],
   "source": [
    " # graph the mse both themods with a random line for each trial and thicker line for average of mse\n",
    "plt.figure()\n",
    "plt.semilogy(ts_depends, means_depends[:,0], color='darkred', label=\"depends\")\n",
    "plt.semilogy(ts_original, means_original[:,0], color='navy', label=\"original\")\n",
    "\n",
    "\n",
    "\n",
    "plt.legend()\n",
    "plt.title(system + \": MSE : noise = \" + str(noise) + \": \" + str(num_lines) + \" random paths :step_sizes = \"+str(step_sizes))\n",
    "plt.savefig(\"{}_{}_min{}_MSE_both_n{}_all.jpg\".format(system, letter, min(step_sizes), noise))"
   ]
  },
  {
   "cell_type": "code",
   "execution_count": null,
   "id": "5553ec25",
   "metadata": {},
   "outputs": [],
   "source": [
    "\n",
    "n_timesteps = 1e10\n",
    "for i in range(len(t_list_list)):\n",
    "    if n_timesteps > max(t_list_list[i]):\n",
    "        n_timesteps = max(t_list_list[i])\n",
    "        \n",
    "y_preds_all_depends = np.zeros((len(y_pred_list_depends), n_timesteps, test_data.shape[2]))\n",
    "y_preds_all_original = np.zeros((len(y_pred_list_original), n_timesteps, test_data.shape[2]))\n",
    "#we need to interpolate y_preds\n",
    "for i in range(len(t_list_list)):\n",
    "    t = np.insert(t_list_list[i], 0, 0)\n",
    "    y_depends = np.insert(y_pred_list_depends[i], 0, test_data[0,0], axis = 0)\n",
    "    y_original = np.insert(y_pred_list_original[i], 0, test_data[0,0], axis = 0)\n",
    "    \n",
    "    sample_steps = range(0, n_timesteps)\n",
    "    cs_depends = scipy.interpolate.interp1d(t, y_depends.T, kind='linear')\n",
    "    y_preds_depends = cs_depends(sample_steps).T\n",
    "    y_preds_all_depends[i] = y_preds_depends\n",
    "    \n",
    "    cs_original = scipy.interpolate.interp1d(t, y_original.T, kind='linear')\n",
    "    y_preds_original = cs_original(sample_steps).T\n",
    "    y_preds_all_original[i] = y_preds_original\n",
    "\n",
    "\n",
    "means_depends = np.mean(y_preds_all_depends, axis = 0)\n",
    "stds_depends = np.std(y_preds_all_depends, axis = 0)\n",
    "\n",
    "means_original = np.mean(y_preds_all_original, axis = 0)\n",
    "stds_original = np.std(y_preds_all_original, axis = 0)\n",
    "\n",
    "ts = sample_steps\n",
    "\n",
    "\n",
    "\n",
    "plt.figure()\n",
    "plt.plot(test_data[0,:timesteps], 'g', label = 'test_data', linewidth = 0.5)\n",
    "plt.plot(ts, means_depends, 'r', label = \"depends\")\n",
    "plt.plot(ts, means_original, 'blue', label = \"original\")\n",
    "for i in range(len(means_depends[0])):\n",
    "    for n_stds in range(1, 4):\n",
    "        plt.fill_between(ts, means_depends[:,i]+n_stds*stds_depends[:,i], means_depends[:,i]-n_stds*stds_depends[:,i], facecolor='red', alpha=0.25)\n",
    "        plt.fill_between(ts, means_original[:,i]+n_stds*stds_original[:,i], means_original[:,i]-n_stds*stds_original[:,i], facecolor='blue', alpha=0.25)\n",
    "        \n",
    "plt.legend()\n",
    "plt.title(system + \": Predicted 1 path: noise = \" + str(noise) +\" :step_sizes = \"+str(step_sizes))\n",
    "plt.savefig(\"{}_{}_min{}_both_predict_first_shaded_n{}.jpg\".format(system, letter, min(step_sizes), noise))"
   ]
  }
 ],
 "metadata": {
  "kernelspec": {
   "display_name": "Python 3 (ipykernel)",
   "language": "python",
   "name": "python3"
  },
  "language_info": {
   "codemirror_mode": {
    "name": "ipython",
    "version": 3
   },
   "file_extension": ".py",
   "mimetype": "text/x-python",
   "name": "python",
   "nbconvert_exporter": "python",
   "pygments_lexer": "ipython3",
   "version": "3.9.5"
  }
 },
 "nbformat": 4,
 "nbformat_minor": 5
}
