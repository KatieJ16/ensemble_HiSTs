{
 "cells": [
  {
   "cell_type": "code",
   "execution_count": 2,
   "metadata": {},
   "outputs": [],
   "source": [
    "import numpy as np\n",
    "import matplotlib.pyplot as plt"
   ]
  },
  {
   "cell_type": "code",
   "execution_count": 8,
   "metadata": {},
   "outputs": [],
   "source": [
    "step_sizes = [1,2,4,8]\n",
    "\n",
    "all_combos = [[1]]"
   ]
  },
  {
   "cell_type": "code",
   "execution_count": 9,
   "metadata": {},
   "outputs": [
    {
     "data": {
      "text/plain": [
       "64"
      ]
     },
     "execution_count": 9,
     "metadata": {},
     "output_type": "execute_result"
    }
   ],
   "source": [
    "2**6"
   ]
  },
  {
   "cell_type": "code",
   "execution_count": 3,
   "metadata": {},
   "outputs": [
    {
     "name": "stdout",
     "output_type": "stream",
     "text": [
      "1 1 1 1 1 \n",
      "base: arr =  [1, 1, 1, 1, 2]\n",
      "base: arr =  [1, 1, 1, 1, 3]\n",
      "base: arr =  [1, 1, 1, 1, 4]\n",
      "base: arr =  [1, 1, 1, 1, 5]\n",
      "1 1 1 2 \n",
      "base: arr =  [1, 1, 1, 3, 5]\n",
      "base: arr =  [1, 1, 1, 4, 5]\n",
      "base: arr =  [1, 1, 1, 5, 5]\n",
      "base: arr =  [1, 1, 2, 2, 5]\n",
      "base: arr =  [1, 1, 2, 3, 5]\n",
      "base: arr =  [1, 1, 2, 4, 5]\n",
      "base: arr =  [1, 1, 2, 5, 5]\n",
      "1 1 3 \n",
      "base: arr =  [1, 1, 4, 5, 5]\n",
      "base: arr =  [1, 1, 5, 5, 5]\n",
      "1 2 2 \n",
      "base: arr =  [1, 2, 3, 5, 5]\n",
      "base: arr =  [1, 2, 4, 5, 5]\n",
      "base: arr =  [1, 2, 5, 5, 5]\n",
      "base: arr =  [1, 3, 3, 5, 5]\n",
      "base: arr =  [1, 3, 4, 5, 5]\n",
      "base: arr =  [1, 3, 5, 5, 5]\n",
      "1 4 \n",
      "base: arr =  [1, 5, 5, 5, 5]\n",
      "base: arr =  [2, 2, 2, 5, 5]\n",
      "base: arr =  [2, 2, 3, 5, 5]\n",
      "base: arr =  [2, 2, 4, 5, 5]\n",
      "base: arr =  [2, 2, 5, 5, 5]\n",
      "2 3 \n",
      "base: arr =  [2, 4, 5, 5, 5]\n",
      "base: arr =  [2, 5, 5, 5, 5]\n",
      "base: arr =  [3, 3, 5, 5, 5]\n",
      "base: arr =  [3, 4, 5, 5, 5]\n",
      "base: arr =  [3, 5, 5, 5, 5]\n",
      "base: arr =  [4, 4, 5, 5, 5]\n",
      "base: arr =  [4, 5, 5, 5, 5]\n",
      "5 \n"
     ]
    }
   ],
   "source": [
    "# Python3 program to find out all\n",
    "# combinations of positive\n",
    "# numbers that add upto given number\n",
    " \n",
    "# arr - array to store the combination\n",
    "# index - next location in array\n",
    "# num - given number\n",
    "# reducedNum - reduced number\n",
    "def findCombinationsUtil(arr, index, num, reducedNum):\n",
    " \n",
    "    # Base condition\n",
    "    if (reducedNum < 0):\n",
    "        print(\"base: arr = \", arr)\n",
    "        return\n",
    "    \n",
    "     # If combination is\n",
    "    # found, print it\n",
    "    if (reducedNum == 0):\n",
    " \n",
    "        for i in range(index):\n",
    "            print(arr[i], end = \" \")\n",
    "        print(\"\")\n",
    "        return\n",
    " \n",
    "    # Find the previous number stored in arr[].\n",
    "    # It helps in maintaining increasing order\n",
    "    prev = 1 if(index == 0) else arr[index - 1]\n",
    " \n",
    "    # note loop starts from previous\n",
    "    # number i.e. at array location\n",
    "    # index - 1\n",
    "    for k in range(prev, num + 1):\n",
    "         \n",
    "        # next element of array is k\n",
    "        arr[index] = k\n",
    " \n",
    "        # call recursively with\n",
    "        # reduced number\n",
    "        findCombinationsUtil(arr, index + 1, num,\n",
    "                                 reducedNum - k)\n",
    "    \n",
    "\n",
    "    return arr\n",
    "# Function to find out all\n",
    "# combinations of positive numbers\n",
    "# that add upto given number.\n",
    "# It uses findCombinationsUtil()\n",
    "def findCombinations(n):\n",
    "     \n",
    "    # array to store the combinations\n",
    "    # It can contain max n elements\n",
    "    arr = [0] * n\n",
    " \n",
    "    # find all combinations\n",
    "    arr = findCombinationsUtil(arr, 0, n, n)\n",
    "\n",
    "# Driver code\n",
    "n = 5\n",
    "arr = findCombinations(n)\n",
    " \n",
    "# This code is contributed by mits"
   ]
  },
  {
   "cell_type": "code",
   "execution_count": 4,
   "metadata": {},
   "outputs": [
    {
     "ename": "SyntaxError",
     "evalue": "invalid syntax (<ipython-input-4-d0412754b81d>, line 6)",
     "output_type": "error",
     "traceback": [
      "\u001b[0;36m  File \u001b[0;32m\"<ipython-input-4-d0412754b81d>\"\u001b[0;36m, line \u001b[0;32m6\u001b[0m\n\u001b[0;31m    for i in range()\u001b[0m\n\u001b[0m                    ^\u001b[0m\n\u001b[0;31mSyntaxError\u001b[0m\u001b[0;31m:\u001b[0m invalid syntax\n"
     ]
    }
   ],
   "source": [
    "step_sizes = [1,2,4,8]\n",
    "steps_forward = 3\n",
    "pos = list()\n",
    "\n",
    "pos.append(np.ones(steps_forward))\n",
    "for i in range()\n",
    "print(pos)"
   ]
  },
  {
   "cell_type": "code",
   "execution_count": 7,
   "metadata": {},
   "outputs": [
    {
     "name": "stdout",
     "output_type": "stream",
     "text": [
      "[ 4  6  8 10 12 14 16 18 20 22 24 26 28 30 32]\n",
      "!=================================================================\n",
      "target =  4\n",
      "[(2, 2), (4,)]\n",
      "[0, 1]\n",
      "[(2, 2) (4,)]\n",
      "len all_combos =  2\n",
      "!=================================================================\n",
      "target =  6\n",
      "[(2, 2, 2), (2, 4)]\n",
      "[0, 1]\n",
      "[(2, 2, 2) (2, 4)]\n",
      "len all_combos =  5\n",
      "!=================================================================\n",
      "target =  8\n",
      "[(2, 2, 2, 2), (2, 2, 4), (4, 4), (8,)]\n",
      "[1, 2, 3]\n",
      "[(2, 2, 4) (4, 4) (8,)]\n",
      "len all_combos =  10\n",
      "!=================================================================\n",
      "target =  10\n",
      "[(2, 2, 2, 2, 2), (2, 2, 2, 4), (2, 4, 4), (2, 8)]\n",
      "[1, 2, 3]\n",
      "[(2, 2, 2, 4) (2, 4, 4) (2, 8)]\n",
      "len all_combos =  19\n",
      "!=================================================================\n",
      "target =  12\n",
      "[(2, 2, 2, 2, 2, 2), (2, 2, 2, 2, 4), (2, 2, 4, 4), (2, 2, 8), (4, 4, 4), (4, 8)]\n",
      "[2, 3, 4, 5]\n",
      "[(2, 2, 4, 4) (2, 2, 8) (4, 4, 4) (4, 8)]\n",
      "len all_combos =  31\n",
      "!=================================================================\n",
      "target =  14\n",
      "[(2, 2, 2, 2, 2, 2, 2), (2, 2, 2, 2, 2, 4), (2, 2, 2, 4, 4), (2, 2, 2, 8), (2, 4, 4, 4), (2, 4, 8)]\n",
      "[2, 3, 4, 5]\n",
      "[(2, 2, 2, 4, 4) (2, 2, 2, 8) (2, 4, 4, 4) (2, 4, 8)]\n",
      "len all_combos =  55\n",
      "!=================================================================\n",
      "target =  16\n",
      "[(2, 2, 2, 2, 2, 2, 2, 2), (2, 2, 2, 2, 2, 2, 4), (2, 2, 2, 2, 4, 4), (2, 2, 2, 2, 8), (2, 2, 4, 4, 4), (2, 2, 4, 8), (4, 4, 4, 4), (4, 4, 8), (8, 8)]\n",
      "[4, 5, 7, 8]\n",
      "[(2, 2, 4, 4, 4) (2, 2, 4, 8) (4, 4, 8) (8, 8)]\n",
      "len all_combos =  81\n",
      "!=================================================================\n",
      "target =  18\n",
      "[(2, 2, 2, 2, 2, 2, 2, 2, 2), (2, 2, 2, 2, 2, 2, 2, 4), (2, 2, 2, 2, 2, 4, 4), (2, 2, 2, 2, 2, 8), (2, 2, 2, 4, 4, 4), (2, 2, 2, 4, 8), (2, 4, 4, 4, 4), (2, 4, 4, 8), (2, 8, 8)]\n",
      "[4, 5, 7, 8]\n",
      "[(2, 2, 2, 4, 4, 4) (2, 2, 2, 4, 8) (2, 4, 4, 8) (2, 8, 8)]\n",
      "len all_combos =  136\n",
      "!=================================================================\n",
      "target =  20\n",
      "[(2, 2, 2, 2, 2, 2, 2, 2, 2, 2), (2, 2, 2, 2, 2, 2, 2, 2, 4), (2, 2, 2, 2, 2, 2, 4, 4), (2, 2, 2, 2, 2, 2, 8), (2, 2, 2, 2, 4, 4, 4), (2, 2, 2, 2, 4, 8), (2, 2, 4, 4, 4, 4), (2, 2, 4, 4, 8), (4, 4, 4, 4, 4), (2, 2, 8, 8), (4, 4, 4, 8), (4, 8, 8)]\n",
      "[7, 9, 10, 11]\n",
      "[(2, 2, 4, 4, 8) (2, 2, 8, 8) (4, 4, 4, 8) (4, 8, 8)]\n",
      "len all_combos =  179\n",
      "!=================================================================\n",
      "target =  22\n",
      "[(2, 2, 2, 2, 2, 2, 2, 2, 2, 2, 2), (2, 2, 2, 2, 2, 2, 2, 2, 2, 4), (2, 2, 2, 2, 2, 2, 2, 4, 4), (2, 2, 2, 2, 2, 2, 2, 8), (2, 2, 2, 2, 2, 4, 4, 4), (2, 2, 2, 2, 2, 4, 8), (2, 2, 2, 4, 4, 4, 4), (2, 2, 2, 4, 4, 8), (2, 4, 4, 4, 4, 4), (2, 2, 2, 8, 8), (2, 4, 4, 4, 8), (2, 4, 8, 8)]\n",
      "[7, 9, 10, 11]\n",
      "[(2, 2, 2, 4, 4, 8) (2, 2, 2, 8, 8) (2, 4, 4, 4, 8) (2, 4, 8, 8)]\n",
      "len all_combos =  281\n",
      "!=================================================================\n",
      "target =  24\n",
      "[(2, 2, 2, 2, 2, 2, 2, 2, 2, 2, 2, 2), (2, 2, 2, 2, 2, 2, 2, 2, 2, 2, 4), (2, 2, 2, 2, 2, 2, 2, 2, 4, 4), (2, 2, 2, 2, 2, 2, 2, 2, 8), (2, 2, 2, 2, 2, 2, 4, 4, 4), (2, 2, 2, 2, 2, 2, 4, 8), (2, 2, 2, 2, 4, 4, 4, 4), (2, 2, 2, 2, 4, 4, 8), (2, 2, 4, 4, 4, 4, 4), (2, 2, 2, 2, 8, 8), (2, 2, 4, 4, 4, 8), (4, 4, 4, 4, 4, 4), (2, 2, 4, 8, 8), (4, 4, 4, 4, 8), (4, 4, 8, 8), (8, 8, 8)]\n",
      "[10, 12, 14, 15]\n",
      "[(2, 2, 4, 4, 4, 8) (2, 2, 4, 8, 8) (4, 4, 8, 8) (8, 8, 8)]\n",
      "len all_combos =  378\n",
      "!=================================================================\n",
      "target =  26\n",
      "[(2, 2, 2, 2, 2, 2, 2, 2, 2, 2, 2, 2, 2), (2, 2, 2, 2, 2, 2, 2, 2, 2, 2, 2, 4), (2, 2, 2, 2, 2, 2, 2, 2, 2, 4, 4), (2, 2, 2, 2, 2, 2, 2, 2, 2, 8), (2, 2, 2, 2, 2, 2, 2, 4, 4, 4), (2, 2, 2, 2, 2, 2, 2, 4, 8), (2, 2, 2, 2, 2, 4, 4, 4, 4), (2, 2, 2, 2, 2, 4, 4, 8), (2, 2, 2, 4, 4, 4, 4, 4), (2, 2, 2, 2, 2, 8, 8), (2, 2, 2, 4, 4, 4, 8), (2, 4, 4, 4, 4, 4, 4), (2, 2, 2, 4, 8, 8), (2, 4, 4, 4, 4, 8), (2, 4, 4, 8, 8), (2, 8, 8, 8)]\n",
      "[10, 12, 14, 15]\n",
      "[(2, 2, 2, 4, 4, 4, 8) (2, 2, 2, 4, 8, 8) (2, 4, 4, 8, 8) (2, 8, 8, 8)]\n",
      "len all_combos =  612\n",
      "!=================================================================\n",
      "target =  28\n",
      "[(2, 2, 2, 2, 2, 2, 2, 2, 2, 2, 2, 2, 2, 2), (2, 2, 2, 2, 2, 2, 2, 2, 2, 2, 2, 2, 4), (2, 2, 2, 2, 2, 2, 2, 2, 2, 2, 4, 4), (2, 2, 2, 2, 2, 2, 2, 2, 2, 2, 8), (2, 2, 2, 2, 2, 2, 2, 2, 4, 4, 4), (2, 2, 2, 2, 2, 2, 2, 2, 4, 8), (2, 2, 2, 2, 2, 2, 4, 4, 4, 4), (2, 2, 2, 2, 2, 2, 4, 4, 8), (2, 2, 2, 2, 4, 4, 4, 4, 4), (2, 2, 2, 2, 2, 2, 8, 8), (2, 2, 2, 2, 4, 4, 4, 8), (2, 2, 4, 4, 4, 4, 4, 4), (2, 2, 2, 2, 4, 8, 8), (2, 2, 4, 4, 4, 4, 8), (4, 4, 4, 4, 4, 4, 4), (2, 2, 4, 4, 8, 8), (4, 4, 4, 4, 4, 8), (2, 2, 8, 8, 8), (4, 4, 4, 8, 8), (4, 8, 8, 8)]\n",
      "[15, 17, 18, 19]\n",
      "[(2, 2, 4, 4, 8, 8) (2, 2, 8, 8, 8) (4, 4, 4, 8, 8) (4, 8, 8, 8)]\n",
      "len all_combos =  726\n",
      "!=================================================================\n",
      "target =  30\n",
      "[(2, 2, 2, 2, 2, 2, 2, 2, 2, 2, 2, 2, 2, 2, 2), (2, 2, 2, 2, 2, 2, 2, 2, 2, 2, 2, 2, 2, 4), (2, 2, 2, 2, 2, 2, 2, 2, 2, 2, 2, 4, 4), (2, 2, 2, 2, 2, 2, 2, 2, 2, 2, 2, 8), (2, 2, 2, 2, 2, 2, 2, 2, 2, 4, 4, 4), (2, 2, 2, 2, 2, 2, 2, 2, 2, 4, 8), (2, 2, 2, 2, 2, 2, 2, 4, 4, 4, 4), (2, 2, 2, 2, 2, 2, 2, 4, 4, 8), (2, 2, 2, 2, 2, 4, 4, 4, 4, 4), (2, 2, 2, 2, 2, 2, 2, 8, 8), (2, 2, 2, 2, 2, 4, 4, 4, 8), (2, 2, 2, 4, 4, 4, 4, 4, 4), (2, 2, 2, 2, 2, 4, 8, 8), (2, 2, 2, 4, 4, 4, 4, 8), (2, 4, 4, 4, 4, 4, 4, 4), (2, 2, 2, 4, 4, 8, 8), (2, 4, 4, 4, 4, 4, 8), (2, 2, 2, 8, 8, 8), (2, 4, 4, 4, 8, 8), (2, 4, 8, 8, 8)]\n",
      "[15, 17, 18, 19]\n",
      "[(2, 2, 2, 4, 4, 8, 8) (2, 2, 2, 8, 8, 8) (2, 4, 4, 4, 8, 8)\n",
      " (2, 4, 8, 8, 8)]\n",
      "len all_combos =  1036\n",
      "!=================================================================\n",
      "target =  32\n",
      "[(2, 2, 2, 2, 2, 2, 2, 2, 2, 2, 2, 2, 2, 2, 2, 2), (2, 2, 2, 2, 2, 2, 2, 2, 2, 2, 2, 2, 2, 2, 4), (2, 2, 2, 2, 2, 2, 2, 2, 2, 2, 2, 2, 4, 4), (2, 2, 2, 2, 2, 2, 2, 2, 2, 2, 2, 2, 8), (2, 2, 2, 2, 2, 2, 2, 2, 2, 2, 4, 4, 4), (2, 2, 2, 2, 2, 2, 2, 2, 2, 2, 4, 8), (2, 2, 2, 2, 2, 2, 2, 2, 4, 4, 4, 4), (2, 2, 2, 2, 2, 2, 2, 2, 4, 4, 8), (2, 2, 2, 2, 2, 2, 4, 4, 4, 4, 4), (2, 2, 2, 2, 2, 2, 2, 2, 8, 8), (2, 2, 2, 2, 2, 2, 4, 4, 4, 8), (2, 2, 2, 2, 4, 4, 4, 4, 4, 4), (2, 2, 2, 2, 2, 2, 4, 8, 8), (2, 2, 2, 2, 4, 4, 4, 4, 8), (2, 2, 4, 4, 4, 4, 4, 4, 4), (2, 2, 2, 2, 4, 4, 8, 8), (2, 2, 4, 4, 4, 4, 4, 8), (4, 4, 4, 4, 4, 4, 4, 4), (2, 2, 2, 2, 8, 8, 8), (2, 2, 4, 4, 4, 8, 8), (4, 4, 4, 4, 4, 4, 8), (2, 2, 4, 8, 8, 8), (4, 4, 4, 4, 8, 8), (4, 4, 8, 8, 8), (8, 8, 8, 8)]\n",
      "[19, 21, 23, 24]\n",
      "[(2, 2, 4, 4, 4, 8, 8) (2, 2, 4, 8, 8, 8) (4, 4, 8, 8, 8) (8, 8, 8, 8)]\n",
      "len all_combos =  1317\n"
     ]
    }
   ],
   "source": [
    "import itertools\n",
    "all_combos = list()\n",
    "step_sizes = [2,4,8]#[4, 8, 16, 32]#,8]\n",
    "max_repeat = 4\n",
    "target_list = np.arange(min(step_sizes) * 2, max(step_sizes) * 4+1, min(step_sizes))\n",
    "print(target_list)\n",
    "for target in target_list:\n",
    "    print(\"!=================================================================\")\n",
    "    print(\"target = \", target)\n",
    "\n",
    "    \n",
    "    #get all combinations of the step_sizes that sum to target\n",
    "    #https://stackoverflow.com/questions/34517540/find-all-combinations-of-a-list-of-numbers-with-a-given-sum\n",
    "    result = [seq for i in range(int(target/min(step_sizes)), 0, -1)\n",
    "              for seq in itertools.combinations_with_replacement(step_sizes, i)\n",
    "              if sum(seq) == target]\n",
    "\n",
    "    print(result)\n",
    "    result = np.array(result)\n",
    "\n",
    "    #filter out things that have 5 of the same number\n",
    "    \n",
    "    idx_keep = list()\n",
    "    for i, value in enumerate(result):\n",
    "    #     print(i)\n",
    "    #     print(np.count_nonzero(np.array(i) == 1))\n",
    "        if np.count_nonzero(np.array(value) == min(step_sizes)) < max_repeat and  np.count_nonzero(np.array(value) == min(step_sizes)*2) < max_repeat:\n",
    "            idx_keep.append(i)\n",
    "\n",
    "    print(idx_keep)\n",
    "    result_less = result[idx_keep]\n",
    "    print(result_less)\n",
    "    \n",
    "    \n",
    "    # Get all permutations of [1, 2, 3]\n",
    "    # perm = \n",
    "\n",
    "    # Print the obtained permutations\n",
    "    for this_poss in result_less:\n",
    "        for i in list(itertools.permutations(this_poss)):\n",
    "            if i not in all_combos:\n",
    "    #             print(i)\n",
    "                all_combos.append(i)\n",
    "    print(\"len all_combos = \", len(all_combos))\n",
    "#     print(all_combos)"
   ]
  },
  {
   "cell_type": "code",
   "execution_count": null,
   "metadata": {},
   "outputs": [],
   "source": [
    "import random\n",
    "possibilities = len(all_combos)\n",
    "for i in random.sample(range(possibilities), 25):\n",
    "    print(all_combos[i])"
   ]
  },
  {
   "cell_type": "code",
   "execution_count": 65,
   "metadata": {},
   "outputs": [
    {
     "name": "stdout",
     "output_type": "stream",
     "text": [
      "<class 'tuple'>\n"
     ]
    }
   ],
   "source": [
    "print(type(all_combos[0]))"
   ]
  },
  {
   "cell_type": "code",
   "execution_count": 8,
   "metadata": {},
   "outputs": [],
   "source": [
    "np.save('all_combos_2.npy', all_combos)"
   ]
  },
  {
   "cell_type": "code",
   "execution_count": 58,
   "metadata": {},
   "outputs": [
    {
     "name": "stdout",
     "output_type": "stream",
     "text": [
      "[(1, 1) (2,) (1, 1, 1) ... (4, 4, 2, 4, 2) (4, 4, 4, 2, 2) (4, 4, 4, 4)]\n"
     ]
    }
   ],
   "source": [
    "print(np.load('all_combos.npy'))"
   ]
  },
  {
   "cell_type": "code",
   "execution_count": 52,
   "metadata": {},
   "outputs": [
    {
     "name": "stdout",
     "output_type": "stream",
     "text": [
      "len all_combos =  124\n",
      "[(1, 1, 1, 1, 2, 2, 2), (1, 1, 1, 2, 1, 2, 2), (1, 1, 1, 2, 2, 1, 2), (1, 1, 1, 2, 2, 2, 1), (1, 1, 2, 1, 1, 2, 2), (1, 1, 2, 1, 2, 1, 2), (1, 1, 2, 1, 2, 2, 1), (1, 1, 2, 2, 1, 1, 2), (1, 1, 2, 2, 1, 2, 1), (1, 1, 2, 2, 2, 1, 1), (1, 2, 1, 1, 1, 2, 2), (1, 2, 1, 1, 2, 1, 2), (1, 2, 1, 1, 2, 2, 1), (1, 2, 1, 2, 1, 1, 2), (1, 2, 1, 2, 1, 2, 1), (1, 2, 1, 2, 2, 1, 1), (1, 2, 2, 1, 1, 1, 2), (1, 2, 2, 1, 1, 2, 1), (1, 2, 2, 1, 2, 1, 1), (1, 2, 2, 2, 1, 1, 1), (2, 1, 1, 1, 1, 2, 2), (2, 1, 1, 1, 2, 1, 2), (2, 1, 1, 1, 2, 2, 1), (2, 1, 1, 2, 1, 1, 2), (2, 1, 1, 2, 1, 2, 1), (2, 1, 1, 2, 2, 1, 1), (2, 1, 2, 1, 1, 1, 2), (2, 1, 2, 1, 1, 2, 1), (2, 1, 2, 1, 2, 1, 1), (2, 1, 2, 2, 1, 1, 1), (2, 2, 1, 1, 1, 1, 2), (2, 2, 1, 1, 1, 2, 1), (2, 2, 1, 1, 2, 1, 1), (2, 2, 1, 2, 1, 1, 1), (2, 2, 2, 1, 1, 1, 1), (1, 1, 1, 1, 2, 4), (1, 1, 1, 1, 4, 2), (1, 1, 1, 2, 1, 4), (1, 1, 1, 2, 4, 1), (1, 1, 1, 4, 1, 2), (1, 1, 1, 4, 2, 1), (1, 1, 2, 1, 1, 4), (1, 1, 2, 1, 4, 1), (1, 1, 2, 4, 1, 1), (1, 1, 4, 1, 1, 2), (1, 1, 4, 1, 2, 1), (1, 1, 4, 2, 1, 1), (1, 2, 1, 1, 1, 4), (1, 2, 1, 1, 4, 1), (1, 2, 1, 4, 1, 1), (1, 2, 4, 1, 1, 1), (1, 4, 1, 1, 1, 2), (1, 4, 1, 1, 2, 1), (1, 4, 1, 2, 1, 1), (1, 4, 2, 1, 1, 1), (2, 1, 1, 1, 1, 4), (2, 1, 1, 1, 4, 1), (2, 1, 1, 4, 1, 1), (2, 1, 4, 1, 1, 1), (2, 4, 1, 1, 1, 1), (4, 1, 1, 1, 1, 2), (4, 1, 1, 1, 2, 1), (4, 1, 1, 2, 1, 1), (4, 1, 2, 1, 1, 1), (4, 2, 1, 1, 1, 1), (1, 1, 2, 2, 2, 2), (1, 2, 1, 2, 2, 2), (1, 2, 2, 1, 2, 2), (1, 2, 2, 2, 1, 2), (1, 2, 2, 2, 2, 1), (2, 1, 1, 2, 2, 2), (2, 1, 2, 1, 2, 2), (2, 1, 2, 2, 1, 2), (2, 1, 2, 2, 2, 1), (2, 2, 1, 1, 2, 2), (2, 2, 1, 2, 1, 2), (2, 2, 1, 2, 2, 1), (2, 2, 2, 1, 1, 2), (2, 2, 2, 1, 2, 1), (2, 2, 2, 2, 1, 1), (1, 1, 2, 2, 4), (1, 1, 2, 4, 2), (1, 1, 4, 2, 2), (1, 2, 1, 2, 4), (1, 2, 1, 4, 2), (1, 2, 2, 1, 4), (1, 2, 2, 4, 1), (1, 2, 4, 1, 2), (1, 2, 4, 2, 1), (1, 4, 1, 2, 2), (1, 4, 2, 1, 2), (1, 4, 2, 2, 1), (2, 1, 1, 2, 4), (2, 1, 1, 4, 2), (2, 1, 2, 1, 4), (2, 1, 2, 4, 1), (2, 1, 4, 1, 2), (2, 1, 4, 2, 1), (2, 2, 1, 1, 4), (2, 2, 1, 4, 1), (2, 2, 4, 1, 1), (2, 4, 1, 1, 2), (2, 4, 1, 2, 1), (2, 4, 2, 1, 1), (4, 1, 1, 2, 2), (4, 1, 2, 1, 2), (4, 1, 2, 2, 1), (4, 2, 1, 1, 2), (4, 2, 1, 2, 1), (4, 2, 2, 1, 1), (2, 2, 2, 2, 2), (1, 1, 4, 4), (1, 4, 1, 4), (1, 4, 4, 1), (4, 1, 1, 4), (4, 1, 4, 1), (4, 4, 1, 1), (2, 2, 2, 4), (2, 2, 4, 2), (2, 4, 2, 2), (4, 2, 2, 2), (2, 4, 4), (4, 2, 4), (4, 4, 2)]\n"
     ]
    }
   ],
   "source": [
    "\n",
    "# Get all permutations of [1, 2, 3]\n",
    "# perm = \n",
    " \n",
    "# Print the obtained permutations\n",
    "for this_poss in result_less:\n",
    "    for i in list(itertools.permutations(this_poss)):\n",
    "        if i not in all_combos:\n",
    "#             print(i)\n",
    "            all_combos.append(i)\n",
    "print(\"len all_combos = \", len(all_combos))\n",
    "print(all_combos)"
   ]
  },
  {
   "cell_type": "code",
   "execution_count": null,
   "metadata": {},
   "outputs": [],
   "source": []
  }
 ],
 "metadata": {
  "kernelspec": {
   "display_name": "Python 3",
   "language": "python",
   "name": "python3"
  },
  "language_info": {
   "codemirror_mode": {
    "name": "ipython",
    "version": 3
   },
   "file_extension": ".py",
   "mimetype": "text/x-python",
   "name": "python",
   "nbconvert_exporter": "python",
   "pygments_lexer": "ipython3",
   "version": "3.6.9"
  }
 },
 "nbformat": 4,
 "nbformat_minor": 2
}
