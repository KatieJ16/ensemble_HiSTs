{
 "cells": [
  {
   "cell_type": "code",
   "execution_count": 1,
   "metadata": {},
   "outputs": [],
   "source": [
    "import numpy as np\n",
    "import matplotlib.pyplot as plt"
   ]
  },
  {
   "cell_type": "code",
   "execution_count": 22,
   "metadata": {},
   "outputs": [],
   "source": [
    "step_sizes =[1, 8, 216]\n",
    "\n",
    "all_combos = [[1]]"
   ]
  },
  {
   "cell_type": "code",
   "execution_count": 23,
   "metadata": {},
   "outputs": [
    {
     "data": {
      "text/plain": [
       "64"
      ]
     },
     "execution_count": 23,
     "metadata": {},
     "output_type": "execute_result"
    }
   ],
   "source": [
    "2**6"
   ]
  },
  {
   "cell_type": "code",
   "execution_count": 24,
   "metadata": {},
   "outputs": [
    {
     "name": "stdout",
     "output_type": "stream",
     "text": [
      "1 1 1 1 1 \n",
      "base: arr =  [1, 1, 1, 1, 2]\n",
      "base: arr =  [1, 1, 1, 1, 3]\n",
      "base: arr =  [1, 1, 1, 1, 4]\n",
      "base: arr =  [1, 1, 1, 1, 5]\n",
      "1 1 1 2 \n",
      "base: arr =  [1, 1, 1, 3, 5]\n",
      "base: arr =  [1, 1, 1, 4, 5]\n",
      "base: arr =  [1, 1, 1, 5, 5]\n",
      "base: arr =  [1, 1, 2, 2, 5]\n",
      "base: arr =  [1, 1, 2, 3, 5]\n",
      "base: arr =  [1, 1, 2, 4, 5]\n",
      "base: arr =  [1, 1, 2, 5, 5]\n",
      "1 1 3 \n",
      "base: arr =  [1, 1, 4, 5, 5]\n",
      "base: arr =  [1, 1, 5, 5, 5]\n",
      "1 2 2 \n",
      "base: arr =  [1, 2, 3, 5, 5]\n",
      "base: arr =  [1, 2, 4, 5, 5]\n",
      "base: arr =  [1, 2, 5, 5, 5]\n",
      "base: arr =  [1, 3, 3, 5, 5]\n",
      "base: arr =  [1, 3, 4, 5, 5]\n",
      "base: arr =  [1, 3, 5, 5, 5]\n",
      "1 4 \n",
      "base: arr =  [1, 5, 5, 5, 5]\n",
      "base: arr =  [2, 2, 2, 5, 5]\n",
      "base: arr =  [2, 2, 3, 5, 5]\n",
      "base: arr =  [2, 2, 4, 5, 5]\n",
      "base: arr =  [2, 2, 5, 5, 5]\n",
      "2 3 \n",
      "base: arr =  [2, 4, 5, 5, 5]\n",
      "base: arr =  [2, 5, 5, 5, 5]\n",
      "base: arr =  [3, 3, 5, 5, 5]\n",
      "base: arr =  [3, 4, 5, 5, 5]\n",
      "base: arr =  [3, 5, 5, 5, 5]\n",
      "base: arr =  [4, 4, 5, 5, 5]\n",
      "base: arr =  [4, 5, 5, 5, 5]\n",
      "5 \n"
     ]
    }
   ],
   "source": [
    "# Python3 program to find out all\n",
    "# combinations of positive\n",
    "# numbers that add upto given number\n",
    " \n",
    "# arr - array to store the combination\n",
    "# index - next location in array\n",
    "# num - given number\n",
    "# reducedNum - reduced number\n",
    "def findCombinationsUtil(arr, index, num, reducedNum):\n",
    " \n",
    "    # Base condition\n",
    "    if (reducedNum < 0):\n",
    "        print(\"base: arr = \", arr)\n",
    "        return\n",
    "    \n",
    "     # If combination is\n",
    "    # found, print it\n",
    "    if (reducedNum == 0):\n",
    " \n",
    "        for i in range(index):\n",
    "            print(arr[i], end = \" \")\n",
    "        print(\"\")\n",
    "        return\n",
    " \n",
    "    # Find the previous number stored in arr[].\n",
    "    # It helps in maintaining increasing order\n",
    "    prev = 1 if(index == 0) else arr[index - 1]\n",
    " \n",
    "    # note loop starts from previous\n",
    "    # number i.e. at array location\n",
    "    # index - 1\n",
    "    for k in range(prev, num + 1):\n",
    "         \n",
    "        # next element of array is k\n",
    "        arr[index] = k\n",
    " \n",
    "        # call recursively with\n",
    "        # reduced number\n",
    "        findCombinationsUtil(arr, index + 1, num,\n",
    "                                 reducedNum - k)\n",
    "    \n",
    "\n",
    "    return arr\n",
    "# Function to find out all\n",
    "# combinations of positive numbers\n",
    "# that add upto given number.\n",
    "# It uses findCombinationsUtil()\n",
    "def findCombinations(n):\n",
    "     \n",
    "    # array to store the combinations\n",
    "    # It can contain max n elements\n",
    "    arr = [0] * n\n",
    " \n",
    "    # find all combinations\n",
    "    arr = findCombinationsUtil(arr, 0, n, n)\n",
    "\n",
    "# Driver code\n",
    "n = 5\n",
    "arr = findCombinations(n)\n",
    " \n",
    "# This code is contributed by mits"
   ]
  },
  {
   "cell_type": "code",
   "execution_count": 25,
   "metadata": {},
   "outputs": [],
   "source": [
    "step_sizes = [1,2,4,8]\n",
    "steps_forward = 3\n",
    "pos = list()\n",
    "\n",
    "pos.append(np.ones(steps_forward))\n",
    "# for i in range():\n",
    "# print(pos)"
   ]
  },
  {
   "cell_type": "code",
   "execution_count": 35,
   "metadata": {},
   "outputs": [
    {
     "name": "stdout",
     "output_type": "stream",
     "text": [
      "[0, 4, 8, 12, 16, 20, 24, 28, 32, 36, 216, 220, 224, 228, 232, 236, 240, 244, 248, 252, 432, 436, 440, 444, 448, 452, 456, 460, 464, 468, 648, 652, 656, 660, 664, 668, 672, 676, 680, 684]\n"
     ]
    }
   ],
   "source": [
    "import itertools\n",
    "all_combos = list()\n",
    "step_sizes = [4, 8, 216]#[2,4,8]#[4, 8, 16, 32]#,8]\n",
    "max_repeat = 4\n",
    "target_list = list()\n",
    "for i in range(max_repeat):\n",
    "    this_num = i * step_sizes[2]\n",
    "    target_list.append(this_num)\n",
    "    for j in range(max_repeat):\n",
    "        this_num_j = j * step_sizes[1] + this_num\n",
    "        if this_num_j not in target_list:\n",
    "            target_list.append(this_num_j)\n",
    "        for k in range(max_repeat):\n",
    "            this_num_k = k * step_sizes[0] + this_num_j\n",
    "            if this_num_k not in target_list:\n",
    "                target_list.append(this_num_k)\n",
    "print(target_list)"
   ]
  },
  {
   "cell_type": "code",
   "execution_count": 36,
   "metadata": {},
   "outputs": [
    {
     "name": "stdout",
     "output_type": "stream",
     "text": [
      "[0, 4, 8, 12, 16, 20, 24, 28, 32, 36, 216, 220, 224, 228, 232, 236, 240, 244, 248, 252, 432, 436, 440, 444, 448, 452, 456, 460, 464, 468, 648, 652, 656, 660, 664, 668, 672, 676, 680, 684]\n",
      "[0, 4, 8, 12, 16, 20, 24, 28, 32, 36, 216, 220, 224, 228, 232, 236, 240, 244, 248, 252, 432, 436, 440, 444, 448, 452, 456, 460, 464, 468, 648, 652, 656, 660, 664, 668, 672, 676, 680, 684]\n",
      "!=================================================================\n",
      "target =  0\n",
      "[]\n",
      "[]\n",
      "len all_combos =  0\n",
      "!=================================================================\n",
      "target =  4\n",
      "[0]\n",
      "[[4]]\n",
      "len all_combos =  1\n",
      "!=================================================================\n",
      "target =  8\n",
      "[0, 1]\n",
      "[(4, 4) (8,)]\n",
      "len all_combos =  3\n",
      "!=================================================================\n",
      "target =  12\n",
      "[0, 1]\n",
      "[(4, 4, 4) (4, 8)]\n",
      "len all_combos =  6\n",
      "!=================================================================\n",
      "target =  16\n",
      "[1, 2]\n",
      "[(4, 4, 8) (8, 8)]\n",
      "len all_combos =  10\n",
      "!=================================================================\n",
      "target =  20\n",
      "[1, 2]\n",
      "[(4, 4, 4, 8) (4, 8, 8)]\n",
      "len all_combos =  17\n",
      "!=================================================================\n",
      "target =  24\n",
      "[2, 3]\n",
      "[(4, 4, 8, 8) (8, 8, 8)]\n",
      "len all_combos =  24\n",
      "!=================================================================\n",
      "target =  28\n",
      "[2, 3]\n",
      "[(4, 4, 4, 8, 8) (4, 8, 8, 8)]\n",
      "len all_combos =  38\n",
      "!=================================================================\n",
      "target =  32\n",
      "[3]\n",
      "[(4, 4, 8, 8, 8)]\n",
      "len all_combos =  48\n",
      "!=================================================================\n",
      "target =  36\n",
      "[3]\n",
      "[(4, 4, 4, 8, 8, 8)]\n",
      "len all_combos =  68\n",
      "!=================================================================\n",
      "target =  216\n",
      "[28]\n",
      "[(216,)]\n",
      "len all_combos =  69\n",
      "!=================================================================\n",
      "target =  220\n",
      "[28]\n",
      "[(4, 216)]\n",
      "len all_combos =  71\n",
      "!=================================================================\n",
      "target =  224\n",
      "[29, 30]\n",
      "[(4, 4, 216) (8, 216)]\n",
      "len all_combos =  76\n",
      "!=================================================================\n",
      "target =  228\n",
      "[29, 30]\n",
      "[(4, 4, 4, 216) (4, 8, 216)]\n",
      "len all_combos =  86\n",
      "!=================================================================\n",
      "target =  232\n",
      "[31, 32]\n",
      "[(4, 4, 8, 216) (8, 8, 216)]\n",
      "len all_combos =  101\n",
      "!=================================================================\n",
      "target =  236\n",
      "[31, 32]\n",
      "[(4, 4, 4, 8, 216) (4, 8, 8, 216)]\n",
      "len all_combos =  133\n",
      "!=================================================================\n",
      "target =  240\n",
      "[33, 34]\n",
      "[(4, 4, 8, 8, 216) (8, 8, 8, 216)]\n",
      "len all_combos =  167\n",
      "!=================================================================\n",
      "target =  244\n",
      "[33, 34]\n",
      "[(4, 4, 4, 8, 8, 216) (4, 8, 8, 8, 216)]\n",
      "len all_combos =  247\n",
      "!=================================================================\n",
      "target =  248\n",
      "[35]\n",
      "[(4, 4, 8, 8, 8, 216)]\n",
      "len all_combos =  307\n",
      "!=================================================================\n",
      "target =  252\n"
     ]
    },
    {
     "name": "stderr",
     "output_type": "stream",
     "text": [
      "/tmp/ipykernel_423/984312895.py:32: VisibleDeprecationWarning: Creating an ndarray from ragged nested sequences (which is a list-or-tuple of lists-or-tuples-or ndarrays with different lengths or shapes) is deprecated. If you meant to do this, you must specify 'dtype=object' when creating the ndarray.\n",
      "  result = np.array(result)\n"
     ]
    },
    {
     "name": "stdout",
     "output_type": "stream",
     "text": [
      "[35]\n",
      "[(4, 4, 4, 8, 8, 8, 216)]\n",
      "len all_combos =  447\n",
      "!=================================================================\n",
      "target =  432\n",
      "[83]\n",
      "[(216, 216)]\n",
      "len all_combos =  448\n",
      "!=================================================================\n",
      "target =  436\n",
      "[83]\n",
      "[(4, 216, 216)]\n",
      "len all_combos =  451\n",
      "!=================================================================\n",
      "target =  440\n",
      "[85, 86]\n",
      "[(4, 4, 216, 216) (8, 216, 216)]\n",
      "len all_combos =  460\n",
      "!=================================================================\n",
      "target =  444\n",
      "[85, 86]\n",
      "[(4, 4, 4, 216, 216) (4, 8, 216, 216)]\n",
      "len all_combos =  482\n",
      "!=================================================================\n",
      "target =  448\n",
      "[88, 89]\n",
      "[(4, 4, 8, 216, 216) (8, 8, 216, 216)]\n",
      "len all_combos =  518\n",
      "!=================================================================\n",
      "target =  452\n",
      "[88, 89]\n",
      "[(4, 4, 4, 8, 216, 216) (4, 8, 8, 216, 216)]\n",
      "len all_combos =  608\n",
      "!=================================================================\n",
      "target =  456\n",
      "[91, 92]\n",
      "[(4, 4, 8, 8, 216, 216) (8, 8, 8, 216, 216)]\n",
      "len all_combos =  708\n",
      "!=================================================================\n",
      "target =  460\n",
      "[91, 92]\n",
      "[(4, 4, 4, 8, 8, 216, 216) (4, 8, 8, 8, 216, 216)]\n",
      "len all_combos =  978\n",
      "!=================================================================\n",
      "target =  464\n",
      "[94]\n",
      "[(4, 4, 8, 8, 8, 216, 216)]\n",
      "len all_combos =  1188\n",
      "!=================================================================\n",
      "target =  468\n",
      "[94]\n",
      "[(4, 4, 4, 8, 8, 8, 216, 216)]\n",
      "len all_combos =  1748\n",
      "!=================================================================\n",
      "target =  648\n",
      "[165]\n",
      "[(216, 216, 216)]\n",
      "len all_combos =  1749\n",
      "!=================================================================\n",
      "target =  652\n",
      "[165]\n",
      "[(4, 216, 216, 216)]\n",
      "len all_combos =  1753\n",
      "!=================================================================\n",
      "target =  656\n",
      "[168, 169]\n",
      "[(4, 4, 216, 216, 216) (8, 216, 216, 216)]\n",
      "len all_combos =  1767\n",
      "!=================================================================\n",
      "target =  660\n",
      "[168, 169]\n",
      "[(4, 4, 4, 216, 216, 216) (4, 8, 216, 216, 216)]\n",
      "len all_combos =  1807\n",
      "!=================================================================\n",
      "target =  664\n",
      "[172, 173]\n",
      "[(4, 4, 8, 216, 216, 216) (8, 8, 216, 216, 216)]\n",
      "len all_combos =  1877\n",
      "!=================================================================\n",
      "target =  668\n",
      "[172, 173]\n",
      "[(4, 4, 4, 8, 216, 216, 216) (4, 8, 8, 216, 216, 216)]\n",
      "len all_combos =  2077\n",
      "!=================================================================\n",
      "target =  672\n",
      "[176, 177]\n",
      "[(4, 4, 8, 8, 216, 216, 216) (8, 8, 8, 216, 216, 216)]\n",
      "len all_combos =  2307\n",
      "!=================================================================\n",
      "target =  676\n",
      "[176, 177]\n",
      "[(4, 4, 4, 8, 8, 216, 216, 216) (4, 8, 8, 8, 216, 216, 216)]\n",
      "len all_combos =  3007\n",
      "!=================================================================\n",
      "target =  680\n",
      "[180]\n",
      "[(4, 4, 8, 8, 8, 216, 216, 216)]\n",
      "len all_combos =  3567\n",
      "!=================================================================\n",
      "target =  684\n",
      "[180]\n",
      "[(4, 4, 4, 8, 8, 8, 216, 216, 216)]\n",
      "len all_combos =  5247\n"
     ]
    }
   ],
   "source": [
    "import itertools\n",
    "all_combos = list()\n",
    "step_sizes = [4, 8, 216]#[2,4,8]#[4, 8, 16, 32]#,8]\n",
    "max_repeat = 4\n",
    "target_list = list()\n",
    "for i in range(max_repeat):\n",
    "    this_num = i * step_sizes[2]\n",
    "    target_list.append(this_num)\n",
    "    for j in range(max_repeat):\n",
    "        this_num_j = j * step_sizes[1] + this_num\n",
    "        if this_num_j not in target_list:\n",
    "            target_list.append(this_num_j)\n",
    "        for k in range(max_repeat):\n",
    "            this_num_k = k * step_sizes[0] + this_num_j\n",
    "            if this_num_k not in target_list:\n",
    "                target_list.append(this_num_k)\n",
    "print(target_list)\n",
    "# target_list = np.arange(min(step_sizes) * 2, max(step_sizes) * 4+1, min(step_sizes))\n",
    "print(target_list)\n",
    "for target in target_list:\n",
    "    print(\"!=================================================================\")\n",
    "    print(\"target = \", target)\n",
    "\n",
    "    \n",
    "    #get all combinations of the step_sizes that sum to target\n",
    "    #https://stackoverflow.com/questions/34517540/find-all-combinations-of-a-list-of-numbers-with-a-given-sum\n",
    "    result = [seq for i in range(int(target/min(step_sizes)), 0, -1)\n",
    "              for seq in itertools.combinations_with_replacement(step_sizes, i)\n",
    "              if sum(seq) == target]\n",
    "\n",
    "#     print(result)\n",
    "    result = np.array(result)\n",
    "\n",
    "    #filter out things that have 5 of the same number\n",
    "    \n",
    "    idx_keep = list()\n",
    "    for i, value in enumerate(result):\n",
    "    #     print(i)\n",
    "    #     print(np.count_nonzero(np.array(i) == 1))\n",
    "        if (np.count_nonzero(np.array(value) == step_sizes[0]) < max_repeat and  np.count_nonzero(np.array(value) == step_sizes[1]) < max_repeat):\n",
    "            idx_keep.append(i)\n",
    "\n",
    "    print(idx_keep)\n",
    "    result_less = result[idx_keep]\n",
    "    print(result_less)\n",
    "    \n",
    "    \n",
    "    # Get all permutations of [1, 2, 3]\n",
    "    # perm = \n",
    "\n",
    "    # Print the obtained permutations\n",
    "    for this_poss in result_less:\n",
    "        for i in list(itertools.permutations(this_poss)):\n",
    "            if i not in all_combos:\n",
    "    #             print(i)\n",
    "                all_combos.append(i)\n",
    "    print(\"len all_combos = \", len(all_combos))\n",
    "#     print(all_combos)"
   ]
  },
  {
   "cell_type": "code",
   "execution_count": 38,
   "metadata": {},
   "outputs": [
    {
     "name": "stderr",
     "output_type": "stream",
     "text": [
      "/root/miniconda3/lib/python3.9/site-packages/numpy/lib/npyio.py:528: VisibleDeprecationWarning: Creating an ndarray from ragged nested sequences (which is a list-or-tuple of lists-or-tuples-or ndarrays with different lengths or shapes) is deprecated. If you meant to do this, you must specify 'dtype=object' when creating the ndarray.\n",
      "  arr = np.asanyarray(arr)\n"
     ]
    }
   ],
   "source": [
    "np.save(\"all_combos_KS.npy\", all_combos)"
   ]
  },
  {
   "cell_type": "code",
   "execution_count": 21,
   "metadata": {},
   "outputs": [
    {
     "name": "stdout",
     "output_type": "stream",
     "text": [
      "[  0.           0.31415927   0.62831853   0.9424778    1.25663706\n",
      "   1.57079633   1.88495559   2.19911486   2.51327412   2.82743339\n",
      "   3.14159265   3.45575192   3.76991118   4.08407045   4.39822972\n",
      "   4.71238898   5.02654825   5.34070751   5.65486678   5.96902604\n",
      "   6.28318531   6.59734457   6.91150384   7.2256631    7.53982237\n",
      "   7.85398163   8.1681409    8.48230016   8.79645943   9.1106187\n",
      "   9.42477796   9.73893723 -10.05309649  -9.73893723  -9.42477796\n",
      "  -9.1106187   -8.79645943  -8.48230016  -8.1681409   -7.85398163\n",
      "  -7.53982237  -7.2256631   -6.91150384  -6.59734457  -6.28318531\n",
      "  -5.96902604  -5.65486678  -5.34070751  -5.02654825  -4.71238898\n",
      "  -4.39822972  -4.08407045  -3.76991118  -3.45575192  -3.14159265\n",
      "  -2.82743339  -2.51327412  -2.19911486  -1.88495559  -1.57079633\n",
      "  -1.25663706  -0.9424778   -0.62831853  -0.31415927]\n"
     ]
    }
   ],
   "source": [
    "L = 10\n",
    "n = 64\n",
    "k = 2 * np.pi / (2 * L) * np.concatenate([np.arange(n/2), -1 * np.flip(np.arange(n/2) + 1)] )\n",
    "print(k)"
   ]
  },
  {
   "cell_type": "code",
   "execution_count": null,
   "metadata": {},
   "outputs": [],
   "source": [
    "import random\n",
    "possibilities = len(all_combos)\n",
    "for i in random.sample(range(possibilities), 25):\n",
    "    print(all_combos[i])"
   ]
  },
  {
   "cell_type": "code",
   "execution_count": 65,
   "metadata": {},
   "outputs": [
    {
     "name": "stdout",
     "output_type": "stream",
     "text": [
      "<class 'tuple'>\n"
     ]
    }
   ],
   "source": [
    "print(type(all_combos[0]))"
   ]
  },
  {
   "cell_type": "code",
   "execution_count": 8,
   "metadata": {},
   "outputs": [],
   "source": [
    "np.save('all_combos_2.npy', all_combos)"
   ]
  },
  {
   "cell_type": "code",
   "execution_count": 58,
   "metadata": {},
   "outputs": [
    {
     "name": "stdout",
     "output_type": "stream",
     "text": [
      "[(1, 1) (2,) (1, 1, 1) ... (4, 4, 2, 4, 2) (4, 4, 4, 2, 2) (4, 4, 4, 4)]\n"
     ]
    }
   ],
   "source": [
    "print(np.load('all_combos.npy'))"
   ]
  },
  {
   "cell_type": "code",
   "execution_count": 52,
   "metadata": {},
   "outputs": [
    {
     "name": "stdout",
     "output_type": "stream",
     "text": [
      "len all_combos =  124\n",
      "[(1, 1, 1, 1, 2, 2, 2), (1, 1, 1, 2, 1, 2, 2), (1, 1, 1, 2, 2, 1, 2), (1, 1, 1, 2, 2, 2, 1), (1, 1, 2, 1, 1, 2, 2), (1, 1, 2, 1, 2, 1, 2), (1, 1, 2, 1, 2, 2, 1), (1, 1, 2, 2, 1, 1, 2), (1, 1, 2, 2, 1, 2, 1), (1, 1, 2, 2, 2, 1, 1), (1, 2, 1, 1, 1, 2, 2), (1, 2, 1, 1, 2, 1, 2), (1, 2, 1, 1, 2, 2, 1), (1, 2, 1, 2, 1, 1, 2), (1, 2, 1, 2, 1, 2, 1), (1, 2, 1, 2, 2, 1, 1), (1, 2, 2, 1, 1, 1, 2), (1, 2, 2, 1, 1, 2, 1), (1, 2, 2, 1, 2, 1, 1), (1, 2, 2, 2, 1, 1, 1), (2, 1, 1, 1, 1, 2, 2), (2, 1, 1, 1, 2, 1, 2), (2, 1, 1, 1, 2, 2, 1), (2, 1, 1, 2, 1, 1, 2), (2, 1, 1, 2, 1, 2, 1), (2, 1, 1, 2, 2, 1, 1), (2, 1, 2, 1, 1, 1, 2), (2, 1, 2, 1, 1, 2, 1), (2, 1, 2, 1, 2, 1, 1), (2, 1, 2, 2, 1, 1, 1), (2, 2, 1, 1, 1, 1, 2), (2, 2, 1, 1, 1, 2, 1), (2, 2, 1, 1, 2, 1, 1), (2, 2, 1, 2, 1, 1, 1), (2, 2, 2, 1, 1, 1, 1), (1, 1, 1, 1, 2, 4), (1, 1, 1, 1, 4, 2), (1, 1, 1, 2, 1, 4), (1, 1, 1, 2, 4, 1), (1, 1, 1, 4, 1, 2), (1, 1, 1, 4, 2, 1), (1, 1, 2, 1, 1, 4), (1, 1, 2, 1, 4, 1), (1, 1, 2, 4, 1, 1), (1, 1, 4, 1, 1, 2), (1, 1, 4, 1, 2, 1), (1, 1, 4, 2, 1, 1), (1, 2, 1, 1, 1, 4), (1, 2, 1, 1, 4, 1), (1, 2, 1, 4, 1, 1), (1, 2, 4, 1, 1, 1), (1, 4, 1, 1, 1, 2), (1, 4, 1, 1, 2, 1), (1, 4, 1, 2, 1, 1), (1, 4, 2, 1, 1, 1), (2, 1, 1, 1, 1, 4), (2, 1, 1, 1, 4, 1), (2, 1, 1, 4, 1, 1), (2, 1, 4, 1, 1, 1), (2, 4, 1, 1, 1, 1), (4, 1, 1, 1, 1, 2), (4, 1, 1, 1, 2, 1), (4, 1, 1, 2, 1, 1), (4, 1, 2, 1, 1, 1), (4, 2, 1, 1, 1, 1), (1, 1, 2, 2, 2, 2), (1, 2, 1, 2, 2, 2), (1, 2, 2, 1, 2, 2), (1, 2, 2, 2, 1, 2), (1, 2, 2, 2, 2, 1), (2, 1, 1, 2, 2, 2), (2, 1, 2, 1, 2, 2), (2, 1, 2, 2, 1, 2), (2, 1, 2, 2, 2, 1), (2, 2, 1, 1, 2, 2), (2, 2, 1, 2, 1, 2), (2, 2, 1, 2, 2, 1), (2, 2, 2, 1, 1, 2), (2, 2, 2, 1, 2, 1), (2, 2, 2, 2, 1, 1), (1, 1, 2, 2, 4), (1, 1, 2, 4, 2), (1, 1, 4, 2, 2), (1, 2, 1, 2, 4), (1, 2, 1, 4, 2), (1, 2, 2, 1, 4), (1, 2, 2, 4, 1), (1, 2, 4, 1, 2), (1, 2, 4, 2, 1), (1, 4, 1, 2, 2), (1, 4, 2, 1, 2), (1, 4, 2, 2, 1), (2, 1, 1, 2, 4), (2, 1, 1, 4, 2), (2, 1, 2, 1, 4), (2, 1, 2, 4, 1), (2, 1, 4, 1, 2), (2, 1, 4, 2, 1), (2, 2, 1, 1, 4), (2, 2, 1, 4, 1), (2, 2, 4, 1, 1), (2, 4, 1, 1, 2), (2, 4, 1, 2, 1), (2, 4, 2, 1, 1), (4, 1, 1, 2, 2), (4, 1, 2, 1, 2), (4, 1, 2, 2, 1), (4, 2, 1, 1, 2), (4, 2, 1, 2, 1), (4, 2, 2, 1, 1), (2, 2, 2, 2, 2), (1, 1, 4, 4), (1, 4, 1, 4), (1, 4, 4, 1), (4, 1, 1, 4), (4, 1, 4, 1), (4, 4, 1, 1), (2, 2, 2, 4), (2, 2, 4, 2), (2, 4, 2, 2), (4, 2, 2, 2), (2, 4, 4), (4, 2, 4), (4, 4, 2)]\n"
     ]
    }
   ],
   "source": [
    "\n",
    "# Get all permutations of [1, 2, 3]\n",
    "# perm = \n",
    " \n",
    "# Print the obtained permutations\n",
    "for this_poss in result_less:\n",
    "    for i in list(itertools.permutations(this_poss)):\n",
    "        if i not in all_combos:\n",
    "#             print(i)\n",
    "            all_combos.append(i)\n",
    "print(\"len all_combos = \", len(all_combos))\n",
    "print(all_combos)"
   ]
  },
  {
   "cell_type": "code",
   "execution_count": null,
   "metadata": {},
   "outputs": [],
   "source": []
  }
 ],
 "metadata": {
  "kernelspec": {
   "display_name": "Python 3 (ipykernel)",
   "language": "python",
   "name": "python3"
  },
  "language_info": {
   "codemirror_mode": {
    "name": "ipython",
    "version": 3
   },
   "file_extension": ".py",
   "mimetype": "text/x-python",
   "name": "python",
   "nbconvert_exporter": "python",
   "pygments_lexer": "ipython3",
   "version": "3.9.5"
  }
 },
 "nbformat": 4,
 "nbformat_minor": 2
}
