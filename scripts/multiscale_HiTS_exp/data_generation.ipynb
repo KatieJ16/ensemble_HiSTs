{
 "cells": [
  {
   "cell_type": "markdown",
   "metadata": {},
   "source": [
    "## Data Generation"
   ]
  },
  {
   "cell_type": "markdown",
   "metadata": {},
   "source": [
    "### created by Yuying Liu, 04/30/2020"
   ]
  },
  {
   "cell_type": "markdown",
   "metadata": {},
   "source": [
    "This script is used for generating data sets for multiscale HiTS experiments. Here, we consider 5 nonlinear systems: a hyperbolic fixed point, a damped cubic oscillator, the Van der Pol oscillator, a Hopf normal form, and the Lorenz system. Simulations are conducted using scipy.integrate.solve_ivp() and considered as ground truth."
   ]
  },
  {
   "cell_type": "code",
   "execution_count": 97,
   "metadata": {},
   "outputs": [],
   "source": [
    "import os\n",
    "import numpy as np\n",
    "import scipy as sp\n",
    "from scipy import integrate\n",
    "from tqdm.notebook import tqdm\n",
    "import matplotlib.pyplot as plt"
   ]
  },
  {
   "cell_type": "code",
   "execution_count": 98,
   "metadata": {},
   "outputs": [],
   "source": [
    "# paths\n",
    "data_dir = '../../data/'\n",
    "hyperbolic_dir = os.path.join(data_dir, 'Hyperbolic')\n",
    "cubic_dir = os.path.join(data_dir, 'Cubic')\n",
    "vdp_dir = os.path.join(data_dir, 'VanDerPol')\n",
    "hopf_dir = os.path.join(data_dir, 'Hopf')\n",
    "lorenz_dir = os.path.join(data_dir, 'Lorenz')\n",
    "cos_dir = os.path.join(data_dir, 'Cos')"
   ]
  },
  {
   "cell_type": "code",
   "execution_count": 131,
   "metadata": {},
   "outputs": [],
   "source": [
    "# adjustable parameters\n",
    "dt = 0.01       # set to 5e-4 for Lorenz\n",
    "noise = 0.1     # for study of noisy measurements, we use noise=0.01, 0.02; otherwise we leave it as 0.\n",
    "n_forward = 5\n",
    "total_steps = 1024 * n_forward\n",
    "t = np.linspace(0, (total_steps)*dt, total_steps+1)"
   ]
  },
  {
   "cell_type": "code",
   "execution_count": 132,
   "metadata": {},
   "outputs": [],
   "source": [
    "#2 cosine problem \n",
    "omega1 = 1\n",
    "omega2 = 8\n",
    "# system\n",
    "mu = -0.05\n",
    "lam = -1.0\n",
    "def hyperbolic_rhs(x):\n",
    "    return np.array([mu*x[0], lam*(x[1]-x[0]**2)])\n",
    "\n",
    "# simulation parameters\n",
    "np.random.seed(2)\n",
    "n = 2\n",
    "\n",
    "# dataset \n",
    "n_train = 3200\n",
    "n_val = 320\n",
    "n_test = 320"
   ]
  },
  {
   "cell_type": "code",
   "execution_count": 133,
   "metadata": {},
   "outputs": [
    {
     "name": "stdout",
     "output_type": "stream",
     "text": [
      "train_data.std(1).mean(0) =  [0.74535599]\n"
     ]
    }
   ],
   "source": [
    "# simulate training trials \n",
    "# train_data = np.zeros((n_train, total_steps+1, 1))\n",
    "# print('generating training trials ...')\n",
    "# for i in tqdm(range(n_train)):\n",
    "#     x_init = np.random.uniform(0.0, 2*np.pi)\n",
    "# #     print(8*np.pi)\n",
    "# #     print(total_steps)\n",
    "# #     print(total_steps*(8*np.pi))\n",
    "#     t = np.arange(x_init, x_init + 8*np.pi, (8*np.pi)/(total_steps+1))\n",
    "# #     print(t.shape)\n",
    "# #     plt.plot(t, np.cos(omega1 * t), label = \"large\")\n",
    "# #     plt.plot(t, np.cos(omega2 * t+np.pi/4), label = \"small\")\n",
    "#     sol = np.cos(omega1 * t) + np.cos(omega2 * t+np.pi/4)/3\n",
    "# #     plt.plot(t, sol, label = \"both\")\n",
    "# #     plt.legend()\n",
    "# #     plt.show()\n",
    "# #     print(sol.shape)\n",
    "# #     jk\n",
    "# #     sol = sp.integrate.solve_ivp(lambda _, x: hyperbolic_rhs(x), [0, total_steps*dt], x_init, t_eval=t)\n",
    "#     train_data[i, :, :] = sol.reshape((len(sol), 1))#.y.T\n",
    "\n",
    "# # simulate validation trials \n",
    "# val_data = np.zeros((n_val, total_steps+1, n))\n",
    "# print('generating validation trials ...')\n",
    "# for i in tqdm(range(n_val)):\n",
    "#     x_init = np.random.uniform(0.0, 2*np.pi)\n",
    "#     t = np.arange(x_init, x_init + 8*np.pi, (8*np.pi)/(total_steps+1))\n",
    "#     sol = np.cos(omega1 * t) + np.cos(omega2 * t+np.pi/4)/3\n",
    "#     val_data[i, :, :] = sol.reshape((len(sol), 1))\n",
    "    \n",
    "# # simulate test trials\n",
    "# test_data = np.zeros((n_test, total_steps+1, n))\n",
    "# print('generating testing trials ...')\n",
    "# for i in tqdm(range(n_test)):\n",
    "#     x_init = np.random.uniform(0.0, 2*np.pi)\n",
    "#     t = np.arange(x_init, x_init + 8*np.pi, (8*np.pi)/(total_steps+1))\n",
    "#     sol = np.cos(omega1 * t) + np.cos(omega2 * t+np.pi/4)/3\n",
    "#     test_data[i, :, :] = sol.reshape((len(sol), 1))\n",
    "    \n",
    "print(\"train_data.std(1).mean(0) = \", train_data.std(1).mean(0))\n",
    "# add noise\n",
    "train_data_noise = train_data + noise*train_data.std(1).mean(0)*np.random.randn(*train_data.shape)\n",
    "val_data_noise = val_data + noise*val_data.std(1).mean(0)*np.random.randn(*val_data.shape)\n",
    "test_data_noise = test_data + noise*test_data.std(1).mean(0)*np.random.randn(*test_data.shape)\n",
    "\n",
    "#delay_embed\n",
    "dim = 128\n",
    "train_data_embedded = np.zeros((n_train, total_steps+1-dim, dim))\n",
    "val_data_embedded = np.zeros((n_val, total_steps+1-dim, dim))\n",
    "test_data_embedded = np.zeros((n_test, total_steps+1-dim, dim))\n",
    "for i in range(dim):\n",
    "    train_data_embedded[:,:,i] = train_data_noise[:,i:i+total_steps+1-dim, 0]\n",
    "    val_data_embedded[:,:,i] = val_data_noise[:,i:i+total_steps+1-dim, 0]\n",
    "    test_data_embedded[:,:,i] = test_data_noise[:,i:i+total_steps+1-dim, 0]\n",
    "    \n",
    "        \n",
    "# # # save data\n",
    "# np.save(os.path.join(cos_dir, 'train_noise{}.npy'.format(noise)), train_data)\n",
    "# np.save(os.path.join(cos_dir, 'val_noise{}.npy'.format(noise)), val_data)\n",
    "# np.save(os.path.join(cos_dir, 'test_noise{}.npy'.format(noise)), test_data)"
   ]
  },
  {
   "cell_type": "code",
   "execution_count": 134,
   "metadata": {},
   "outputs": [],
   "source": [
    "# # # save data\n",
    "np.save(os.path.join(cos_dir, 'train_noise{}.npy'.format(noise)), train_data_embedded)\n",
    "np.save(os.path.join(cos_dir, 'val_noise{}.npy'.format(noise)), val_data_embedded)\n",
    "np.save(os.path.join(cos_dir, 'test_noise{}.npy'.format(noise)), test_data_embedded)"
   ]
  },
  {
   "cell_type": "code",
   "execution_count": 130,
   "metadata": {},
   "outputs": [
    {
     "name": "stdout",
     "output_type": "stream",
     "text": [
      "(3200, 4993, 128)\n",
      "0.05\n"
     ]
    }
   ],
   "source": [
    "print(train_data_embedded.shape)\n",
    "print(noise)"
   ]
  },
  {
   "cell_type": "code",
   "execution_count": 108,
   "metadata": {},
   "outputs": [
    {
     "data": {
      "text/plain": [
       "(0, 100)"
      ]
     },
     "execution_count": 108,
     "metadata": {},
     "output_type": "execute_result"
    },
    {
     "data": {
      "image/png": "[encoded data removed]",
      "text/plain": [
       "<Figure size 432x288 with 1 Axes>"
      ]
     },
     "metadata": {},
     "output_type": "display_data"
    }
   ],
   "source": [
    "plt.plot(train_data_embedded[0,:,0])\n",
    "plt.plot(train_data_embedded[0,:,1])\n",
    "plt.plot(train_data_embedded[0,:,2])\n",
    "plt.plot(train_data_embedded[0,:,3])\n",
    "\n",
    "plt.plot(train_data_embedded[1,:,0])\n",
    "plt.plot(train_data_embedded[1,:,1])\n",
    "plt.plot(train_data_embedded[1,:,2])\n",
    "plt.plot(train_data_embedded[1,:,3])\n",
    "plt.xlim([0,100])"
   ]
  },
  {
   "cell_type": "code",
   "execution_count": 96,
   "metadata": {},
   "outputs": [
    {
     "name": "stdout",
     "output_type": "stream",
     "text": [
      "0\n",
      "4993\n",
      "train_data[:,i:i+total_steps+1-dim, i] shape =  (3200, 4993)\n",
      "1\n",
      "4994\n",
      "train_data[:,i:i+total_steps+1-dim, i] shape =  (3200, 4993)\n",
      "2\n",
      "4995\n",
      "train_data[:,i:i+total_steps+1-dim, i] shape =  (3200, 4993)\n",
      "3\n",
      "4996\n",
      "train_data[:,i:i+total_steps+1-dim, i] shape =  (3200, 4993)\n",
      "4\n",
      "4997\n",
      "train_data[:,i:i+total_steps+1-dim, i] shape =  (3200, 4993)\n",
      "5\n",
      "4998\n",
      "train_data[:,i:i+total_steps+1-dim, i] shape =  (3200, 4993)\n",
      "6\n",
      "4999\n",
      "train_data[:,i:i+total_steps+1-dim, i] shape =  (3200, 4993)\n",
      "7\n",
      "5000\n",
      "train_data[:,i:i+total_steps+1-dim, i] shape =  (3200, 4993)\n",
      "8\n",
      "5001\n",
      "train_data[:,i:i+total_steps+1-dim, i] shape =  (3200, 4993)\n",
      "9\n",
      "5002\n",
      "train_data[:,i:i+total_steps+1-dim, i] shape =  (3200, 4993)\n",
      "10\n",
      "5003\n",
      "train_data[:,i:i+total_steps+1-dim, i] shape =  (3200, 4993)\n",
      "11\n",
      "5004\n",
      "train_data[:,i:i+total_steps+1-dim, i] shape =  (3200, 4993)\n",
      "12\n",
      "5005\n",
      "train_data[:,i:i+total_steps+1-dim, i] shape =  (3200, 4993)\n",
      "13\n",
      "5006\n",
      "train_data[:,i:i+total_steps+1-dim, i] shape =  (3200, 4993)\n",
      "14\n",
      "5007\n",
      "train_data[:,i:i+total_steps+1-dim, i] shape =  (3200, 4993)\n",
      "15\n",
      "5008\n",
      "train_data[:,i:i+total_steps+1-dim, i] shape =  (3200, 4993)\n",
      "16\n",
      "5009\n",
      "train_data[:,i:i+total_steps+1-dim, i] shape =  (3200, 4993)\n",
      "17\n",
      "5010\n",
      "train_data[:,i:i+total_steps+1-dim, i] shape =  (3200, 4993)\n",
      "18\n",
      "5011\n",
      "train_data[:,i:i+total_steps+1-dim, i] shape =  (3200, 4993)\n",
      "19\n",
      "5012\n",
      "train_data[:,i:i+total_steps+1-dim, i] shape =  (3200, 4993)\n",
      "20\n",
      "5013\n",
      "train_data[:,i:i+total_steps+1-dim, i] shape =  (3200, 4993)\n",
      "21\n",
      "5014\n",
      "train_data[:,i:i+total_steps+1-dim, i] shape =  (3200, 4993)\n",
      "22\n",
      "5015\n",
      "train_data[:,i:i+total_steps+1-dim, i] shape =  (3200, 4993)\n",
      "23\n",
      "5016\n",
      "train_data[:,i:i+total_steps+1-dim, i] shape =  (3200, 4993)\n",
      "24\n",
      "5017\n",
      "train_data[:,i:i+total_steps+1-dim, i] shape =  (3200, 4993)\n",
      "25\n",
      "5018\n",
      "train_data[:,i:i+total_steps+1-dim, i] shape =  (3200, 4993)\n",
      "26\n",
      "5019\n",
      "train_data[:,i:i+total_steps+1-dim, i] shape =  (3200, 4993)\n",
      "27\n",
      "5020\n",
      "train_data[:,i:i+total_steps+1-dim, i] shape =  (3200, 4993)\n",
      "28\n",
      "5021\n",
      "train_data[:,i:i+total_steps+1-dim, i] shape =  (3200, 4993)\n",
      "29\n",
      "5022\n",
      "train_data[:,i:i+total_steps+1-dim, i] shape =  (3200, 4993)\n",
      "30\n",
      "5023\n",
      "train_data[:,i:i+total_steps+1-dim, i] shape =  (3200, 4993)\n",
      "31\n",
      "5024\n",
      "train_data[:,i:i+total_steps+1-dim, i] shape =  (3200, 4993)\n",
      "32\n",
      "5025\n",
      "train_data[:,i:i+total_steps+1-dim, i] shape =  (3200, 4993)\n",
      "33\n",
      "5026\n",
      "train_data[:,i:i+total_steps+1-dim, i] shape =  (3200, 4993)\n",
      "34\n",
      "5027\n",
      "train_data[:,i:i+total_steps+1-dim, i] shape =  (3200, 4993)\n",
      "35\n",
      "5028\n",
      "train_data[:,i:i+total_steps+1-dim, i] shape =  (3200, 4993)\n",
      "36\n",
      "5029\n",
      "train_data[:,i:i+total_steps+1-dim, i] shape =  (3200, 4993)\n",
      "37\n",
      "5030\n",
      "train_data[:,i:i+total_steps+1-dim, i] shape =  (3200, 4993)\n",
      "38\n",
      "5031\n",
      "train_data[:,i:i+total_steps+1-dim, i] shape =  (3200, 4993)\n",
      "39\n",
      "5032\n",
      "train_data[:,i:i+total_steps+1-dim, i] shape =  (3200, 4993)\n",
      "40\n",
      "5033\n",
      "train_data[:,i:i+total_steps+1-dim, i] shape =  (3200, 4993)\n",
      "41\n",
      "5034\n",
      "train_data[:,i:i+total_steps+1-dim, i] shape =  (3200, 4993)\n",
      "42\n",
      "5035\n",
      "train_data[:,i:i+total_steps+1-dim, i] shape =  (3200, 4993)\n",
      "43\n",
      "5036\n",
      "train_data[:,i:i+total_steps+1-dim, i] shape =  (3200, 4993)\n",
      "44\n",
      "5037\n",
      "train_data[:,i:i+total_steps+1-dim, i] shape =  (3200, 4993)\n",
      "45\n",
      "5038\n",
      "train_data[:,i:i+total_steps+1-dim, i] shape =  (3200, 4993)\n",
      "46\n",
      "5039\n",
      "train_data[:,i:i+total_steps+1-dim, i] shape =  (3200, 4993)\n",
      "47\n",
      "5040\n",
      "train_data[:,i:i+total_steps+1-dim, i] shape =  (3200, 4993)\n",
      "48\n",
      "5041\n",
      "train_data[:,i:i+total_steps+1-dim, i] shape =  (3200, 4993)\n",
      "49\n",
      "5042\n",
      "train_data[:,i:i+total_steps+1-dim, i] shape =  (3200, 4993)\n",
      "50\n",
      "5043\n",
      "train_data[:,i:i+total_steps+1-dim, i] shape =  (3200, 4993)\n",
      "51\n",
      "5044\n",
      "train_data[:,i:i+total_steps+1-dim, i] shape =  (3200, 4993)\n",
      "52\n",
      "5045\n",
      "train_data[:,i:i+total_steps+1-dim, i] shape =  (3200, 4993)\n",
      "53\n",
      "5046\n",
      "train_data[:,i:i+total_steps+1-dim, i] shape =  (3200, 4993)\n",
      "54\n",
      "5047\n",
      "train_data[:,i:i+total_steps+1-dim, i] shape =  (3200, 4993)\n",
      "55\n",
      "5048\n",
      "train_data[:,i:i+total_steps+1-dim, i] shape =  (3200, 4993)\n",
      "56\n",
      "5049\n",
      "train_data[:,i:i+total_steps+1-dim, i] shape =  (3200, 4993)\n",
      "57\n",
      "5050\n",
      "train_data[:,i:i+total_steps+1-dim, i] shape =  (3200, 4993)\n",
      "58\n",
      "5051\n",
      "train_data[:,i:i+total_steps+1-dim, i] shape =  (3200, 4993)\n",
      "59\n",
      "5052\n",
      "train_data[:,i:i+total_steps+1-dim, i] shape =  (3200, 4993)\n",
      "60\n",
      "5053\n",
      "train_data[:,i:i+total_steps+1-dim, i] shape =  (3200, 4993)\n",
      "61\n",
      "5054\n",
      "train_data[:,i:i+total_steps+1-dim, i] shape =  (3200, 4993)\n",
      "62\n",
      "5055\n",
      "train_data[:,i:i+total_steps+1-dim, i] shape =  (3200, 4993)\n",
      "63\n",
      "5056\n",
      "train_data[:,i:i+total_steps+1-dim, i] shape =  (3200, 4993)\n",
      "64\n",
      "5057\n",
      "train_data[:,i:i+total_steps+1-dim, i] shape =  (3200, 4993)\n",
      "65\n",
      "5058\n",
      "train_data[:,i:i+total_steps+1-dim, i] shape =  (3200, 4993)\n",
      "66\n",
      "5059\n",
      "train_data[:,i:i+total_steps+1-dim, i] shape =  (3200, 4993)\n",
      "67\n",
      "5060\n",
      "train_data[:,i:i+total_steps+1-dim, i] shape =  (3200, 4993)\n",
      "68\n",
      "5061\n",
      "train_data[:,i:i+total_steps+1-dim, i] shape =  (3200, 4993)\n",
      "69\n",
      "5062\n",
      "train_data[:,i:i+total_steps+1-dim, i] shape =  (3200, 4993)\n",
      "70\n",
      "5063\n",
      "train_data[:,i:i+total_steps+1-dim, i] shape =  (3200, 4993)\n",
      "71\n",
      "5064\n",
      "train_data[:,i:i+total_steps+1-dim, i] shape =  (3200, 4993)\n",
      "72\n",
      "5065\n",
      "train_data[:,i:i+total_steps+1-dim, i] shape =  (3200, 4993)\n",
      "73\n",
      "5066\n",
      "train_data[:,i:i+total_steps+1-dim, i] shape =  (3200, 4993)\n",
      "74\n",
      "5067\n",
      "train_data[:,i:i+total_steps+1-dim, i] shape =  (3200, 4993)\n",
      "75\n",
      "5068\n",
      "train_data[:,i:i+total_steps+1-dim, i] shape =  (3200, 4993)\n",
      "76\n",
      "5069\n",
      "train_data[:,i:i+total_steps+1-dim, i] shape =  (3200, 4993)\n",
      "77\n",
      "5070\n",
      "train_data[:,i:i+total_steps+1-dim, i] shape =  (3200, 4993)\n",
      "78\n",
      "5071\n",
      "train_data[:,i:i+total_steps+1-dim, i] shape =  (3200, 4993)\n",
      "79\n",
      "5072\n",
      "train_data[:,i:i+total_steps+1-dim, i] shape =  (3200, 4993)\n",
      "80\n",
      "5073\n",
      "train_data[:,i:i+total_steps+1-dim, i] shape =  (3200, 4993)\n",
      "81\n",
      "5074\n",
      "train_data[:,i:i+total_steps+1-dim, i] shape =  (3200, 4993)\n",
      "82\n",
      "5075\n",
      "train_data[:,i:i+total_steps+1-dim, i] shape =  (3200, 4993)\n",
      "83\n",
      "5076\n",
      "train_data[:,i:i+total_steps+1-dim, i] shape =  (3200, 4993)\n",
      "84\n",
      "5077\n",
      "train_data[:,i:i+total_steps+1-dim, i] shape =  (3200, 4993)\n",
      "85\n",
      "5078\n",
      "train_data[:,i:i+total_steps+1-dim, i] shape =  (3200, 4993)\n",
      "86\n",
      "5079\n",
      "train_data[:,i:i+total_steps+1-dim, i] shape =  (3200, 4993)\n",
      "87\n",
      "5080\n",
      "train_data[:,i:i+total_steps+1-dim, i] shape =  (3200, 4993)\n",
      "88\n",
      "5081\n",
      "train_data[:,i:i+total_steps+1-dim, i] shape =  (3200, 4993)\n",
      "89\n",
      "5082\n",
      "train_data[:,i:i+total_steps+1-dim, i] shape =  (3200, 4993)\n",
      "90\n",
      "5083\n",
      "train_data[:,i:i+total_steps+1-dim, i] shape =  (3200, 4993)\n",
      "91\n",
      "5084\n",
      "train_data[:,i:i+total_steps+1-dim, i] shape =  (3200, 4993)\n",
      "92\n",
      "5085\n",
      "train_data[:,i:i+total_steps+1-dim, i] shape =  (3200, 4993)\n",
      "93\n",
      "5086\n",
      "train_data[:,i:i+total_steps+1-dim, i] shape =  (3200, 4993)\n",
      "94\n",
      "5087\n",
      "train_data[:,i:i+total_steps+1-dim, i] shape =  (3200, 4993)\n",
      "95\n",
      "5088\n",
      "train_data[:,i:i+total_steps+1-dim, i] shape =  (3200, 4993)\n",
      "96\n",
      "5089\n",
      "train_data[:,i:i+total_steps+1-dim, i] shape =  (3200, 4993)\n",
      "97\n",
      "5090\n",
      "train_data[:,i:i+total_steps+1-dim, i] shape =  (3200, 4993)\n",
      "98\n",
      "5091\n",
      "train_data[:,i:i+total_steps+1-dim, i] shape =  (3200, 4993)\n",
      "99\n",
      "5092\n",
      "train_data[:,i:i+total_steps+1-dim, i] shape =  (3200, 4993)\n",
      "100\n",
      "5093\n",
      "train_data[:,i:i+total_steps+1-dim, i] shape =  (3200, 4993)\n",
      "101\n",
      "5094\n",
      "train_data[:,i:i+total_steps+1-dim, i] shape =  (3200, 4993)\n",
      "102\n",
      "5095\n",
      "train_data[:,i:i+total_steps+1-dim, i] shape =  (3200, 4993)\n",
      "103\n",
      "5096\n",
      "train_data[:,i:i+total_steps+1-dim, i] shape =  (3200, 4993)\n",
      "104\n",
      "5097\n",
      "train_data[:,i:i+total_steps+1-dim, i] shape =  (3200, 4993)\n",
      "105\n",
      "5098\n",
      "train_data[:,i:i+total_steps+1-dim, i] shape =  (3200, 4993)\n",
      "106\n",
      "5099\n",
      "train_data[:,i:i+total_steps+1-dim, i] shape =  (3200, 4993)\n",
      "107\n",
      "5100\n",
      "train_data[:,i:i+total_steps+1-dim, i] shape =  (3200, 4993)\n",
      "108\n",
      "5101\n",
      "train_data[:,i:i+total_steps+1-dim, i] shape =  (3200, 4993)\n",
      "109\n",
      "5102\n",
      "train_data[:,i:i+total_steps+1-dim, i] shape =  (3200, 4993)\n",
      "110\n",
      "5103\n",
      "train_data[:,i:i+total_steps+1-dim, i] shape =  (3200, 4993)\n",
      "111\n",
      "5104\n",
      "train_data[:,i:i+total_steps+1-dim, i] shape =  (3200, 4993)\n",
      "112\n",
      "5105\n",
      "train_data[:,i:i+total_steps+1-dim, i] shape =  (3200, 4993)\n",
      "113\n",
      "5106\n",
      "train_data[:,i:i+total_steps+1-dim, i] shape =  (3200, 4993)\n",
      "114\n",
      "5107\n",
      "train_data[:,i:i+total_steps+1-dim, i] shape =  (3200, 4993)\n",
      "115\n",
      "5108\n",
      "train_data[:,i:i+total_steps+1-dim, i] shape =  (3200, 4993)\n",
      "116\n",
      "5109\n",
      "train_data[:,i:i+total_steps+1-dim, i] shape =  (3200, 4993)\n",
      "117\n",
      "5110\n",
      "train_data[:,i:i+total_steps+1-dim, i] shape =  (3200, 4993)\n",
      "118\n",
      "5111\n",
      "train_data[:,i:i+total_steps+1-dim, i] shape =  (3200, 4993)\n"
     ]
    },
    {
     "name": "stdout",
     "output_type": "stream",
     "text": [
      "119\n",
      "5112\n",
      "train_data[:,i:i+total_steps+1-dim, i] shape =  (3200, 4993)\n",
      "120\n",
      "5113\n",
      "train_data[:,i:i+total_steps+1-dim, i] shape =  (3200, 4993)\n",
      "121\n",
      "5114\n",
      "train_data[:,i:i+total_steps+1-dim, i] shape =  (3200, 4993)\n",
      "122\n",
      "5115\n",
      "train_data[:,i:i+total_steps+1-dim, i] shape =  (3200, 4993)\n",
      "123\n",
      "5116\n",
      "train_data[:,i:i+total_steps+1-dim, i] shape =  (3200, 4993)\n",
      "124\n",
      "5117\n",
      "train_data[:,i:i+total_steps+1-dim, i] shape =  (3200, 4993)\n",
      "125\n",
      "5118\n",
      "train_data[:,i:i+total_steps+1-dim, i] shape =  (3200, 4993)\n",
      "126\n",
      "5119\n",
      "train_data[:,i:i+total_steps+1-dim, i] shape =  (3200, 4993)\n",
      "127\n",
      "5120\n",
      "train_data[:,i:i+total_steps+1-dim, i] shape =  (3200, 4993)\n"
     ]
    }
   ],
   "source": [
    "dim = 128\n",
    "train_data_embedded = np.zeros((n_train, total_steps+1-dim, dim))\n",
    "val_data_embedded = np.zeros((n_val, total_steps+1-dim, dim))\n",
    "test_data_embedded = np.zeros((n_test, total_steps+1-dim, dim))\n",
    "for i in range(dim):\n",
    "    print(i)\n",
    "    print(i+total_steps+1-dim)\n",
    "    print(\"train_data[:,i:i+total_steps+1-dim, i] shape = \", train_data[:,i:i+total_steps+1-dim, 0].shape)\n",
    "    train_data_embedded[:,:,i] = train_data[:,i:i+total_steps+1-dim, 0]"
   ]
  },
  {
   "cell_type": "code",
   "execution_count": 95,
   "metadata": {},
   "outputs": [
    {
     "name": "stdout",
     "output_type": "stream",
     "text": [
      "(3200, 4993, 1)\n"
     ]
    }
   ],
   "source": [
    "print(train_data[:,1:4994].shape)"
   ]
  },
  {
   "cell_type": "code",
   "execution_count": 93,
   "metadata": {},
   "outputs": [
    {
     "name": "stdout",
     "output_type": "stream",
     "text": [
      "(3200, 5121, 1)\n",
      "(3200, 4993, 128)\n"
     ]
    }
   ],
   "source": [
    "print(train_data.shape)\n",
    "print(train_data_embedded.shape)"
   ]
  },
  {
   "cell_type": "code",
   "execution_count": null,
   "metadata": {},
   "outputs": [],
   "source": [
    "plt.plot(train_data_embedded[0,:,0])\n",
    "plt.plot(train_data_embedded[0,:,1])"
   ]
  },
  {
   "cell_type": "markdown",
   "metadata": {},
   "source": [
    "### Hyperbolic fixed point"
   ]
  },
  {
   "cell_type": "markdown",
   "metadata": {},
   "source": [
    "\\begin{split}\n",
    "    \\dot{x} &= \\mu x \\\\\n",
    "    \\dot{y} &= \\lambda(y-x^2)     \n",
    "\\end{split}"
   ]
  },
  {
   "cell_type": "code",
   "execution_count": 6,
   "metadata": {},
   "outputs": [],
   "source": [
    "# system\n",
    "# mu = -0.05\n",
    "# lam = -1.0\n",
    "# def hyperbolic_rhs(x):\n",
    "#     return np.array([mu*x[0], lam*(x[1]-x[0]**2)])\n",
    "\n",
    "omega1 = 1\n",
    "omega2 = 3\n",
    "\n",
    "# simulation parameters\n",
    "np.random.seed(2)\n",
    "n = 1\n",
    "\n",
    "# dataset \n",
    "n_train = 1600\n",
    "n_val = 320\n",
    "n_test = 320"
   ]
  },
  {
   "cell_type": "code",
   "execution_count": null,
   "metadata": {},
   "outputs": [],
   "source": [
    "# simulate training trials \n",
    "train_data = np.zeros((n_train, total_steps+1, n))\n",
    "print('generating training trials ...')\n",
    "for i in tqdm(range(n_train)):\n",
    "    x_init = np.random.uniform(-1.0, 1.0, n)\n",
    "    t = np.arange(x_init, x_init + 8*pi)\n",
    "    sol = np.cos(omega1 * t) + np.cos(omega2 + t)\n",
    "    plt.plot(sol)\n",
    "    jk\n",
    "    sol = sp.integrate.solve_ivp(lambda _, x: hyperbolic_rhs(x), [0, total_steps*dt], x_init, t_eval=t)\n",
    "    train_data[i, :, :] = sol.y.T\n",
    "\n",
    "# simulate validation trials \n",
    "val_data = np.zeros((n_val, total_steps+1, n))\n",
    "print('generating validation trials ...')\n",
    "for i in tqdm(range(n_val)):\n",
    "    x_init = np.random.uniform(-1.0, 1.0, n)\n",
    "    sol = sp.integrate.solve_ivp(lambda _, x: hyperbolic_rhs(x), [0, total_steps*dt], x_init, t_eval=t)\n",
    "    val_data[i, :, :] = sol.y.T\n",
    "    \n",
    "# simulate test trials\n",
    "test_data = np.zeros((n_test, total_steps+1, n))\n",
    "print('generating testing trials ...')\n",
    "for i in tqdm(range(n_test)):\n",
    "    x_init = np.random.uniform(-1.0, 1.0, n)\n",
    "    sol = sp.integrate.solve_ivp(lambda _, x: hyperbolic_rhs(x), [0, total_steps*dt], x_init, t_eval=t)\n",
    "    test_data[i, :, :] = sol.y.T\n",
    "    \n",
    "print(\"train_data.std(1).mean(0) = \", train_data.std(1).mean(0))\n",
    "# add noise\n",
    "train_data += noise*train_data.std(1).mean(0)*np.random.randn(*train_data.shape)\n",
    "val_data += noise*val_data.std(1).mean(0)*np.random.randn(*val_data.shape)\n",
    "test_data += noise*test_data.std(1).mean(0)*np.random.randn(*test_data.shape)\n",
    "        \n",
    "# save data\n",
    "np.save(os.path.join(hyperbolic_dir, 'train_noise{}.npy'.format(noise)), train_data)\n",
    "np.save(os.path.join(hyperbolic_dir, 'val_noise{}.npy'.format(noise)), val_data)\n",
    "np.save(os.path.join(hyperbolic_dir, 'test_noise{}.npy'.format(noise)), test_data)"
   ]
  },
  {
   "cell_type": "code",
   "execution_count": 37,
   "metadata": {},
   "outputs": [
    {
     "name": "stdout",
     "output_type": "stream",
     "text": [
      "generating training trials ...\n"
     ]
    },
    {
     "data": {
      "application/vnd.jupyter.widget-view+json": {
       "model_id": "fd43828c69f3482b96f44671f47e69b5",
       "version_major": 2,
       "version_minor": 0
      },
      "text/plain": [
       "  0%|          | 0/1600 [00:00<?, ?it/s]"
      ]
     },
     "metadata": {},
     "output_type": "display_data"
    },
    {
     "name": "stdout",
     "output_type": "stream",
     "text": [
      "generating validation trials ...\n"
     ]
    },
    {
     "data": {
      "application/vnd.jupyter.widget-view+json": {
       "model_id": "d9df3c3c332548e5869a83ad7497b57a",
       "version_major": 2,
       "version_minor": 0
      },
      "text/plain": [
       "  0%|          | 0/320 [00:00<?, ?it/s]"
      ]
     },
     "metadata": {},
     "output_type": "display_data"
    },
    {
     "name": "stdout",
     "output_type": "stream",
     "text": [
      "generating testing trials ...\n"
     ]
    },
    {
     "data": {
      "application/vnd.jupyter.widget-view+json": {
       "model_id": "fb34024c5ffa4ad49ed0f561defcd17d",
       "version_major": 2,
       "version_minor": 0
      },
      "text/plain": [
       "  0%|          | 0/320 [00:00<?, ?it/s]"
      ]
     },
     "metadata": {},
     "output_type": "display_data"
    },
    {
     "name": "stdout",
     "output_type": "stream",
     "text": [
      "train_data.std(1).mean(0) =  [0.12597688 0.09995497]\n"
     ]
    }
   ],
   "source": [
    "# simulate training trials \n",
    "train_data = np.zeros((n_train, total_steps+1, n))\n",
    "print('generating training trials ...')\n",
    "for i in tqdm(range(n_train)):\n",
    "    x_init = np.random.uniform(-1.0, 1.0, n)\n",
    "    sol = sp.integrate.solve_ivp(lambda _, x: hyperbolic_rhs(x), [0, total_steps*dt], x_init, t_eval=t)\n",
    "    train_data[i, :, :] = sol.y.T\n",
    "\n",
    "# simulate validation trials \n",
    "val_data = np.zeros((n_val, total_steps+1, n))\n",
    "print('generating validation trials ...')\n",
    "for i in tqdm(range(n_val)):\n",
    "    x_init = np.random.uniform(-1.0, 1.0, n)\n",
    "    sol = sp.integrate.solve_ivp(lambda _, x: hyperbolic_rhs(x), [0, total_steps*dt], x_init, t_eval=t)\n",
    "    val_data[i, :, :] = sol.y.T\n",
    "    \n",
    "# simulate test trials\n",
    "test_data = np.zeros((n_test, total_steps+1, n))\n",
    "print('generating testing trials ...')\n",
    "for i in tqdm(range(n_test)):\n",
    "    x_init = np.random.uniform(-1.0, 1.0, n)\n",
    "    sol = sp.integrate.solve_ivp(lambda _, x: hyperbolic_rhs(x), [0, total_steps*dt], x_init, t_eval=t)\n",
    "    test_data[i, :, :] = sol.y.T\n",
    "    \n",
    "print(\"train_data.std(1).mean(0) = \", train_data.std(1).mean(0))\n",
    "# add noise\n",
    "train_data += noise*train_data.std(1).mean(0)*np.random.randn(*train_data.shape)\n",
    "val_data += noise*val_data.std(1).mean(0)*np.random.randn(*val_data.shape)\n",
    "test_data += noise*test_data.std(1).mean(0)*np.random.randn(*test_data.shape)\n",
    "        \n",
    "# save data\n",
    "np.save(os.path.join(hyperbolic_dir, 'train_noise{}.npy'.format(noise)), train_data)\n",
    "np.save(os.path.join(hyperbolic_dir, 'val_noise{}.npy'.format(noise)), val_data)\n",
    "np.save(os.path.join(hyperbolic_dir, 'test_noise{}.npy'.format(noise)), test_data)"
   ]
  },
  {
   "cell_type": "code",
   "execution_count": 38,
   "metadata": {},
   "outputs": [
    {
     "data": {
      "text/plain": [
       "[<matplotlib.lines.Line2D at 0x7f041cc84d30>]"
      ]
     },
     "execution_count": 38,
     "metadata": {},
     "output_type": "execute_result"
    },
    {
     "data": {
      "image/png": "[encoded data removed]",
      "text/plain": [
       "<Figure size 432x288 with 1 Axes>"
      ]
     },
     "metadata": {},
     "output_type": "display_data"
    }
   ],
   "source": [
    "i = 1\n",
    "plt.plot(test_data[i,:,0])\n",
    "plt.plot(test_data[i,:,1])"
   ]
  },
  {
   "cell_type": "markdown",
   "metadata": {},
   "source": [
    "### Cubic oscillator"
   ]
  },
  {
   "cell_type": "markdown",
   "metadata": {},
   "source": [
    "\\begin{split}\n",
    "    \\dot{x} &= -0.1x^3 + 2y^3 \\\\\n",
    "    \\dot{y} &= -2x^3 - 0.1y^3\n",
    "\\end{split}"
   ]
  },
  {
   "cell_type": "code",
   "execution_count": 45,
   "metadata": {},
   "outputs": [],
   "source": [
    "# system\n",
    "\n",
    "\n",
    "def cubic_rhs(x):\n",
    "    return np.array([-0.1*x[0]**3+2*x[1]**3, \n",
    "                     -2*x[0]**3-0.1*x[1]**3])\n",
    "\n",
    "# simulation parameters\n",
    "np.random.seed(2)\n",
    "n = 2\n",
    "\n",
    "# dataset \n",
    "n_train = 3200\n",
    "n_val = 320\n",
    "n_test = 320"
   ]
  },
  {
   "cell_type": "code",
   "execution_count": 46,
   "metadata": {},
   "outputs": [
    {
     "name": "stdout",
     "output_type": "stream",
     "text": [
      "generating training trials ...\n"
     ]
    },
    {
     "data": {
      "application/vnd.jupyter.widget-view+json": {
       "model_id": "52ca5f8c506747518f2b207944eabdcf",
       "version_major": 2,
       "version_minor": 0
      },
      "text/plain": [
       "  0%|          | 0/3200 [00:00<?, ?it/s]"
      ]
     },
     "metadata": {},
     "output_type": "display_data"
    },
    {
     "name": "stdout",
     "output_type": "stream",
     "text": [
      "generating validation trials ...\n"
     ]
    },
    {
     "data": {
      "application/vnd.jupyter.widget-view+json": {
       "model_id": "bb0d42f4b8e542158cca77c6b7bec574",
       "version_major": 2,
       "version_minor": 0
      },
      "text/plain": [
       "  0%|          | 0/320 [00:00<?, ?it/s]"
      ]
     },
     "metadata": {},
     "output_type": "display_data"
    },
    {
     "name": "stdout",
     "output_type": "stream",
     "text": [
      "generating testing trials ...\n"
     ]
    },
    {
     "data": {
      "application/vnd.jupyter.widget-view+json": {
       "model_id": "e617f976b34f4f568a3f289db42d4b88",
       "version_major": 2,
       "version_minor": 0
      },
      "text/plain": [
       "  0%|          | 0/320 [00:00<?, ?it/s]"
      ]
     },
     "metadata": {},
     "output_type": "display_data"
    }
   ],
   "source": [
    "# simulate training trials \n",
    "train_data = np.zeros((n_train, total_steps+1, n))\n",
    "print('generating training trials ...')\n",
    "for i in tqdm(range(n_train)):\n",
    "    x_init = np.random.uniform(-1.0, 1.0, n)\n",
    "    sol = sp.integrate.solve_ivp(lambda _, x: cubic_rhs(x), [0, total_steps*dt], x_init, t_eval=t)\n",
    "    train_data[i, :, :] = sol.y.T\n",
    "\n",
    "# simulate validation trials \n",
    "val_data = np.zeros((n_val, total_steps+1, n))\n",
    "print('generating validation trials ...')\n",
    "for i in tqdm(range(n_val)):\n",
    "    x_init = np.random.uniform(-1.0, 1.0, n)\n",
    "    sol = sp.integrate.solve_ivp(lambda _, x: cubic_rhs(x), [0, total_steps*dt], x_init, t_eval=t)\n",
    "    val_data[i, :, :] = sol.y.T\n",
    "    \n",
    "# simulate test trials\n",
    "test_data = np.zeros((n_test, total_steps+1, n))\n",
    "print('generating testing trials ...')\n",
    "for i in tqdm(range(n_test)):\n",
    "    x_init = np.random.uniform(-1.0, 1.0, n)\n",
    "    sol = sp.integrate.solve_ivp(lambda _, x: cubic_rhs(x), [0, total_steps*dt], x_init, t_eval=t)\n",
    "    test_data[i, :, :] = sol.y.T\n",
    "    \n",
    "# add noise\n",
    "train_data += noise*train_data.std(1).mean(0)*np.random.randn(*train_data.shape)\n",
    "val_data += noise*val_data.std(1).mean(0)*np.random.randn(*val_data.shape)\n",
    "test_data += noise*test_data.std(1).mean(0)*np.random.randn(*test_data.shape)    \n",
    "\n",
    "# save data\n",
    "np.save(os.path.join(cubic_dir, 'train_noise{}.npy'.format(noise)), train_data)\n",
    "np.save(os.path.join(cubic_dir, 'val_noise{}.npy'.format(noise)), val_data)\n",
    "np.save(os.path.join(cubic_dir, 'test_noise{}.npy'.format(noise)), test_data)"
   ]
  },
  {
   "cell_type": "code",
   "execution_count": 47,
   "metadata": {},
   "outputs": [
    {
     "data": {
      "text/plain": [
       "[<matplotlib.lines.Line2D at 0x7f041ca95ba8>]"
      ]
     },
     "execution_count": 47,
     "metadata": {},
     "output_type": "execute_result"
    },
    {
     "data": {
      "image/png": "[encoded data removed]",
      "text/plain": [
       "<Figure size 432x288 with 1 Axes>"
      ]
     },
     "metadata": {},
     "output_type": "display_data"
    }
   ],
   "source": [
    "i = 1\n",
    "plt.plot(test_data[i,:,0])\n",
    "plt.plot(test_data[i,:,1])"
   ]
  },
  {
   "cell_type": "markdown",
   "metadata": {},
   "source": [
    "### Van der Pol"
   ]
  },
  {
   "cell_type": "markdown",
   "metadata": {},
   "source": [
    "\\begin{split}\n",
    "    \\dot{x} &= y \\\\\n",
    "    \\dot{y} &= \\mu(1-x^2)y - x   \n",
    "\\end{split}\n",
    "\n",
    "where $\\mu=2.0$"
   ]
  },
  {
   "cell_type": "code",
   "execution_count": 60,
   "metadata": {},
   "outputs": [],
   "source": [
    "# system\n",
    "noise = 0.2     # for study of noisy measurements, we use noise=0.01, 0.02; otherwise we leave it as 0.\n",
    "\n",
    "mu = 2.0\n",
    "def van_der_pol_rhs(x):\n",
    "    return np.array([x[1], mu*(1-x[0]**2)*x[1]-x[0]])\n",
    "\n",
    "# simulation parameters\n",
    "np.random.seed(2)\n",
    "n = 2\n",
    "\n",
    "# dataset \n",
    "n_train = 3200\n",
    "n_val = 320\n",
    "n_test = 320"
   ]
  },
  {
   "cell_type": "code",
   "execution_count": 61,
   "metadata": {},
   "outputs": [
    {
     "name": "stdout",
     "output_type": "stream",
     "text": [
      "generating training trials ...\n"
     ]
    },
    {
     "data": {
      "application/vnd.jupyter.widget-view+json": {
       "model_id": "631e866b6704417b899cbde6e596eda3",
       "version_major": 2,
       "version_minor": 0
      },
      "text/plain": [
       "  0%|          | 0/3200 [00:00<?, ?it/s]"
      ]
     },
     "metadata": {},
     "output_type": "display_data"
    },
    {
     "name": "stdout",
     "output_type": "stream",
     "text": [
      "generating validation trials ...\n"
     ]
    },
    {
     "data": {
      "application/vnd.jupyter.widget-view+json": {
       "model_id": "bad2f7c8c69147bbacd34a670ce9b971",
       "version_major": 2,
       "version_minor": 0
      },
      "text/plain": [
       "  0%|          | 0/320 [00:00<?, ?it/s]"
      ]
     },
     "metadata": {},
     "output_type": "display_data"
    },
    {
     "name": "stdout",
     "output_type": "stream",
     "text": [
      "generating testing trials ...\n"
     ]
    },
    {
     "data": {
      "application/vnd.jupyter.widget-view+json": {
       "model_id": "a34ec36b3b764ca89684e0d41a441a13",
       "version_major": 2,
       "version_minor": 0
      },
      "text/plain": [
       "  0%|          | 0/320 [00:00<?, ?it/s]"
      ]
     },
     "metadata": {},
     "output_type": "display_data"
    }
   ],
   "source": [
    "# simulate training trials \n",
    "train_data = np.zeros((n_train, total_steps+1, n))\n",
    "print('generating training trials ...')\n",
    "for i in tqdm(range(n_train)):\n",
    "    x_init = [np.random.uniform(-2.0, 2.0), np.random.uniform(-4.0, 4.0)]\n",
    "    sol = sp.integrate.solve_ivp(lambda _, x: van_der_pol_rhs(x), [0, total_steps*dt], x_init, t_eval=t)\n",
    "    train_data[i, :, :] = sol.y.T\n",
    "\n",
    "# simulate validation trials \n",
    "val_data = np.zeros((n_val, total_steps+1, n))\n",
    "print('generating validation trials ...')\n",
    "for i in tqdm(range(n_val)):\n",
    "    x_init = [np.random.uniform(-2.0, 2.0), np.random.uniform(-2.0, 2.0)]    # make sure we have seen them in training set\n",
    "    sol = sp.integrate.solve_ivp(lambda _, x: van_der_pol_rhs(x), [0, total_steps*dt], x_init, t_eval=t)\n",
    "    val_data[i, :, :] = sol.y.T\n",
    "    \n",
    "# simulate test trials\n",
    "test_data = np.zeros((n_test, total_steps+1, n))\n",
    "print('generating testing trials ...')\n",
    "for i in tqdm(range(n_test)):\n",
    "    x_init = [np.random.uniform(-2.0, 2.0), np.random.uniform(-2.0, 2.0)]\n",
    "    sol = sp.integrate.solve_ivp(lambda _, x: van_der_pol_rhs(x), [0, total_steps*dt], x_init, t_eval=t)\n",
    "    test_data[i, :, :] = sol.y.T\n",
    "        \n",
    "# add noise\n",
    "train_data += noise*train_data.std(1).mean(0)*np.random.randn(*train_data.shape)\n",
    "val_data += noise*val_data.std(1).mean(0)*np.random.randn(*val_data.shape)\n",
    "test_data += noise*test_data.std(1).mean(0)*np.random.randn(*test_data.shape)\n",
    "        \n",
    "# save data\n",
    "np.save(os.path.join(vdp_dir, 'train_noise{}.npy'.format(noise)), train_data)\n",
    "np.save(os.path.join(vdp_dir, 'val_noise{}.npy'.format(noise)), val_data)\n",
    "np.save(os.path.join(vdp_dir, 'test_noise{}.npy'.format(noise)), test_data)"
   ]
  },
  {
   "cell_type": "code",
   "execution_count": 62,
   "metadata": {},
   "outputs": [
    {
     "data": {
      "text/plain": [
       "[<matplotlib.lines.Line2D at 0x7f041c81f198>]"
      ]
     },
     "execution_count": 62,
     "metadata": {},
     "output_type": "execute_result"
    },
    {
     "data": {
      "image/png": "[encoded data removed]",
      "text/plain": [
       "<Figure size 432x288 with 1 Axes>"
      ]
     },
     "metadata": {},
     "output_type": "display_data"
    }
   ],
   "source": [
    "i = 1\n",
    "plt.plot(test_data[i,:,0])\n",
    "plt.plot(test_data[i,:,1])"
   ]
  },
  {
   "cell_type": "markdown",
   "metadata": {},
   "source": [
    "### Hopf bifurcation"
   ]
  },
  {
   "cell_type": "markdown",
   "metadata": {},
   "source": [
    "\\begin{split}\n",
    "    \\dot{\\mu} &= 0 \\\\\n",
    "    \\dot{x} &= \\mu x + y -x(x^2+y^2) \\\\\n",
    "    \\dot{y} &= \\mu y - x -y(x^2+y^2)\n",
    "\\end{split}"
   ]
  },
  {
   "cell_type": "code",
   "execution_count": null,
   "metadata": {},
   "outputs": [],
   "source": [
    "# system\n",
    "def hopf_rhs(x):\n",
    "    return np.array([0, x[0]*x[1]+x[2]-x[1]*(x[1]**2+x[2]**2),\n",
    "                    -x[1]+x[0]*x[2]-x[2]*(x[1]**2+x[2]**2)])\n",
    "\n",
    "# simulation parameters\n",
    "np.random.seed(2)\n",
    "n = 3\n",
    "\n",
    "# dataset \n",
    "n_train = 3200\n",
    "n_val = 320\n",
    "n_test = 320"
   ]
  },
  {
   "cell_type": "code",
   "execution_count": null,
   "metadata": {},
   "outputs": [],
   "source": [
    "# simulate training trials \n",
    "train_data = np.zeros((n_train, total_steps+1, n))\n",
    "print('generating training trials ...')\n",
    "for i in tqdm(range(n_train)):\n",
    "    x_init = [np.random.uniform(-0.2, 0.6), np.random.uniform(-1, 2), np.random.uniform(-1, 1)]\n",
    "    sol = sp.integrate.solve_ivp(lambda _, x: hopf_rhs(x), [0, total_steps*dt], x_init, t_eval=t)\n",
    "    train_data[i, :, :] = sol.y.T\n",
    "\n",
    "# simulate validation trials \n",
    "val_data = np.zeros((n_val, total_steps+1, n))\n",
    "print('generating validation trials ...')\n",
    "for i in tqdm(range(n_val)):\n",
    "    x_init = [np.random.uniform(-0.2, 0.6), np.random.uniform(-1, 2), np.random.uniform(-1, 1)]\n",
    "    sol = sp.integrate.solve_ivp(lambda _, x: hopf_rhs(x), [0, total_steps*dt], x_init, t_eval=t)\n",
    "    val_data[i, :, :] = sol.y.T\n",
    "    \n",
    "# simulate test trials\n",
    "test_data = np.zeros((n_test, total_steps+1, n))\n",
    "print('generating testing trials ...')\n",
    "for i in tqdm(range(n_test)):\n",
    "    x_init = [np.random.uniform(-0.2, 0.6), np.random.uniform(-1, 2), np.random.uniform(-1, 1)]\n",
    "    sol = sp.integrate.solve_ivp(lambda _, x: hopf_rhs(x), [0, total_steps*dt], x_init, t_eval=t)\n",
    "    test_data[i, :, :] = sol.y.T\n",
    "    \n",
    "# add noise\n",
    "train_data += noise*train_data.std(1).mean(0)*np.random.randn(*train_data.shape)\n",
    "val_data += noise*val_data.std(1).mean(0)*np.random.randn(*val_data.shape)\n",
    "test_data += noise*test_data.std(1).mean(0)*np.random.randn(*test_data.shape)\n",
    "        \n",
    "# save data\n",
    "np.save(os.path.join(hopf_dir, 'train_noise{}.npy'.format(noise)), train_data)\n",
    "np.save(os.path.join(hopf_dir, 'val_noise{}.npy'.format(noise)), val_data)\n",
    "np.save(os.path.join(hopf_dir, 'test_noise{}.npy'.format(noise)), test_data)"
   ]
  },
  {
   "cell_type": "markdown",
   "metadata": {},
   "source": [
    "### Lorenz"
   ]
  },
  {
   "cell_type": "markdown",
   "metadata": {},
   "source": [
    "\\begin{split}\n",
    "    \\dot{x} &= \\sigma(y-x) \\\\\n",
    "    \\dot{y} &= x(\\rho-z)-y \\\\\n",
    "    \\dot{z} &= xy - \\beta z    \n",
    "\\end{split}\n",
    "\n",
    "where $\\sigma=10, \\rho=28, \\beta=8/3$"
   ]
  },
  {
   "cell_type": "code",
   "execution_count": 4,
   "metadata": {},
   "outputs": [],
   "source": [
    "# system\n",
    "sigma = 10\n",
    "rho = 28\n",
    "beta = 8/3\n",
    "    \n",
    "def lorenz_rhs(x):\n",
    "    return np.array([sigma*(x[1]-x[0]), x[0]*(rho-x[2])-x[1], x[0]*x[1]-beta*x[2]])\n",
    "\n",
    "# simulation parameters\n",
    "np.random.seed(2)\n",
    "warmup = 10000\n",
    "n = 3\n",
    "\n",
    "# dataset \n",
    "n_train = 6400\n",
    "n_val = 640\n",
    "n_test = 640"
   ]
  },
  {
   "cell_type": "code",
   "execution_count": 5,
   "metadata": {},
   "outputs": [
    {
     "name": "stdout",
     "output_type": "stream",
     "text": [
      "generating training trials ...\n"
     ]
    },
    {
     "data": {
      "application/vnd.jupyter.widget-view+json": {
       "model_id": "8b7e5b47e7f14525a6a0042b943ab0d5",
       "version_major": 2,
       "version_minor": 0
      },
      "text/plain": [
       "  0%|          | 0/6400 [00:00<?, ?it/s]"
      ]
     },
     "metadata": {},
     "output_type": "display_data"
    },
    {
     "name": "stderr",
     "output_type": "stream",
     "text": [
      "IOPub message rate exceeded.\n",
      "The notebook server will temporarily stop sending output\n",
      "to the client in order to avoid crashing it.\n",
      "To change this limit, set the config variable\n",
      "`--NotebookApp.iopub_msg_rate_limit`.\n",
      "\n",
      "Current values:\n",
      "NotebookApp.iopub_msg_rate_limit=1000.0 (msgs/sec)\n",
      "NotebookApp.rate_limit_window=3.0 (secs)\n",
      "\n"
     ]
    },
    {
     "name": "stdout",
     "output_type": "stream",
     "text": [
      "generating validation trials ...\n"
     ]
    },
    {
     "data": {
      "application/vnd.jupyter.widget-view+json": {
       "model_id": "7fc18e413aa04f2e847084abf7635ec3",
       "version_major": 2,
       "version_minor": 0
      },
      "text/plain": [
       "  0%|          | 0/640 [00:00<?, ?it/s]"
      ]
     },
     "metadata": {},
     "output_type": "display_data"
    },
    {
     "name": "stdout",
     "output_type": "stream",
     "text": [
      "generating testing trials ...\n"
     ]
    },
    {
     "data": {
      "application/vnd.jupyter.widget-view+json": {
       "model_id": "877accfb6630416db34b04990ec47712",
       "version_major": 2,
       "version_minor": 0
      },
      "text/plain": [
       "  0%|          | 0/640 [00:00<?, ?it/s]"
      ]
     },
     "metadata": {},
     "output_type": "display_data"
    },
    {
     "name": "stderr",
     "output_type": "stream",
     "text": [
      "IOPub message rate exceeded.\n",
      "The notebook server will temporarily stop sending output\n",
      "to the client in order to avoid crashing it.\n",
      "To change this limit, set the config variable\n",
      "`--NotebookApp.iopub_msg_rate_limit`.\n",
      "\n",
      "Current values:\n",
      "NotebookApp.iopub_msg_rate_limit=1000.0 (msgs/sec)\n",
      "NotebookApp.rate_limit_window=3.0 (secs)\n",
      "\n"
     ]
    }
   ],
   "source": [
    "# simulate training trials \n",
    "pre_t = np.linspace(0, warmup*dt, warmup+1)\n",
    "\n",
    "train_data = np.zeros((n_train, total_steps+1, n))\n",
    "print('generating training trials ...')\n",
    "x_init = np.random.uniform(-0.1, 0.1, n)\n",
    "sol = sp.integrate.solve_ivp(lambda _, x: lorenz_rhs(x), [0, warmup*dt], x_init, t_eval=pre_t)\n",
    "for i in tqdm(range(n_train)):\n",
    "    x_init = sol.y[:, -1].T\n",
    "    sol = sp.integrate.solve_ivp(lambda _, x: lorenz_rhs(x), [0, total_steps*dt], x_init, t_eval=t)\n",
    "    train_data[i, :, :] = sol.y.T\n",
    "\n",
    "# simulate validation trials \n",
    "val_data = np.zeros((n_val, total_steps+1, n))\n",
    "print('generating validation trials ...')\n",
    "x_init = np.random.uniform(-0.1, 0.1, n)\n",
    "sol = sp.integrate.solve_ivp(lambda _, x: lorenz_rhs(x), [0, warmup*dt], x_init, t_eval=pre_t)\n",
    "for i in tqdm(range(n_val)):\n",
    "    x_init = sol.y[:, -1].T    \n",
    "    sol = sp.integrate.solve_ivp(lambda _, x: lorenz_rhs(x), [0, total_steps*dt], x_init, t_eval=t)\n",
    "    val_data[i, :, :] = sol.y.T\n",
    "    \n",
    "# simulate test trials\n",
    "test_data = np.zeros((n_test, total_steps+1, n))\n",
    "print('generating testing trials ...')\n",
    "x_init = np.random.uniform(-0.1, 0.1, n)\n",
    "sol = sp.integrate.solve_ivp(lambda _, x: lorenz_rhs(x), [0, warmup*dt], x_init, t_eval=pre_t)\n",
    "for i in tqdm(range(n_test)):\n",
    "    x_init = sol.y[:, -1].T\n",
    "    sol = sp.integrate.solve_ivp(lambda _, x: lorenz_rhs(x), [0, total_steps*dt], x_init, t_eval=t)\n",
    "    test_data[i, :, :] = sol.y.T\n",
    "    \n",
    "# # add noise\n",
    "# train_data += noise*train_data.std(1).mean(0)*np.random.randn(*train_data.shape)\n",
    "# val_data += noise*val_data.std(1).mean(0)*np.random.randn(*val_data.shape)\n",
    "# test_data += noise*test_data.std(1).mean(0)*np.random.randn(*test_data.shape)\n",
    "        \n",
    "# # save data\n",
    "# np.save(os.path.join(lorenz_dir, 'train_noise{}.npy'.format(noise)), train_data)\n",
    "# np.save(os.path.join(lorenz_dir, 'val_noise{}.npy'.format(noise)), val_data)\n",
    "# np.save(os.path.join(lorenz_dir, 'test_noise{}.npy'.format(noise)), test_data)"
   ]
  },
  {
   "cell_type": "code",
   "execution_count": 17,
   "metadata": {},
   "outputs": [
    {
     "name": "stdout",
     "output_type": "stream",
     "text": [
      "noise =  1.0\n"
     ]
    },
    {
     "data": {
      "image/png": "[encoded data removed]",
      "text/plain": [
       "<Figure size 432x288 with 1 Axes>"
      ]
     },
     "metadata": {},
     "output_type": "display_data"
    }
   ],
   "source": [
    "for noise in [1.0]:\n",
    "    print(\"noise = \", noise)\n",
    "    # add noise\n",
    "    train_data_new = train_data + noise*train_data.std(1).mean(0)*np.random.randn(*train_data.shape)\n",
    "    val_data_new = val_data + noise*val_data.std(1).mean(0)*np.random.randn(*val_data.shape)\n",
    "    test_data_new = test_data + noise*test_data.std(1).mean(0)*np.random.randn(*test_data.shape)\n",
    "\n",
    "    # save data\n",
    "    np.save(os.path.join(lorenz_dir, 'train_noise{}.npy'.format(noise)), train_data_new)\n",
    "    np.save(os.path.join(lorenz_dir, 'val_noise{}.npy'.format(noise)), val_data_new)\n",
    "    np.save(os.path.join(lorenz_dir, 'test_noise{}.npy'.format(noise)), test_data_new)\n",
    "    \n",
    "    plt.plot(train_data_new[0,:,0])\n",
    "    plt.plot(train_data_new[0,:,1])\n",
    "    plt.plot(train_data_new[0,:,2])\n",
    "    # print(train_data_new.shape)\n",
    "    plt.xlim([0,1000])\n",
    "    plt.show()"
   ]
  },
  {
   "cell_type": "code",
   "execution_count": 13,
   "metadata": {},
   "outputs": [
    {
     "data": {
      "text/plain": [
       "(0, 1000)"
      ]
     },
     "execution_count": 13,
     "metadata": {},
     "output_type": "execute_result"
    },
    {
     "data": {
      "image/png": "[encoded data removed]",
      "text/plain": [
       "<Figure size 432x288 with 1 Axes>"
      ]
     },
     "metadata": {},
     "output_type": "display_data"
    }
   ],
   "source": [
    "plt.plot(train_data_new[0,:,0])\n",
    "plt.plot(train_data_new[0,:,1])\n",
    "plt.plot(train_data_new[0,:,2])\n",
    "# print(train_data_new.shape)\n",
    "plt.xlim([0,1000])"
   ]
  },
  {
   "cell_type": "code",
   "execution_count": null,
   "metadata": {},
   "outputs": [],
   "source": []
  },
  {
   "cell_type": "code",
   "execution_count": null,
   "metadata": {},
   "outputs": [],
   "source": []
  }
 ],
 "metadata": {
  "kernelspec": {
   "display_name": "Python 3",
   "language": "python",
   "name": "python3"
  },
  "language_info": {
   "codemirror_mode": {
    "name": "ipython",
    "version": 3
   },
   "file_extension": ".py",
   "mimetype": "text/x-python",
   "name": "python",
   "nbconvert_exporter": "python",
   "pygments_lexer": "ipython3",
   "version": "3.6.9"
  }
 },
 "nbformat": 4,
 "nbformat_minor": 2
}
